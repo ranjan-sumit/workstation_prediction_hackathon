{
 "cells": [
  {
   "cell_type": "code",
   "execution_count": 66,
   "metadata": {},
   "outputs": [],
   "source": [
    "import pandas as pd"
   ]
  },
  {
   "cell_type": "code",
   "execution_count": 67,
   "metadata": {},
   "outputs": [],
   "source": [
    "data = pd.read_csv('Train.csv')"
   ]
  },
  {
   "cell_type": "code",
   "execution_count": 79,
   "metadata": {},
   "outputs": [
    {
     "data": {
      "text/plain": [
       "0         New Delhi\n",
       "1          Srinagar\n",
       "2           Udaipur\n",
       "3            Munnar\n",
       "4           Pattaya\n",
       "            ...    \n",
       "20995        Shimla\n",
       "20996      Srinagar\n",
       "20997       Colombo\n",
       "20998    Darjeeling\n",
       "20999        Munnar\n",
       "Name: Destination, Length: 21000, dtype: object"
      ]
     },
     "execution_count": 79,
     "metadata": {},
     "output_type": "execute_result"
    }
   ],
   "source": [
    "data['Destination'].str.split(\"|\").str[0]"
   ]
  },
  {
   "cell_type": "code",
   "execution_count": 81,
   "metadata": {},
   "outputs": [],
   "source": [
    "data['Start_Destination'] = data['Destination'].str.split(\"|\").str[0]"
   ]
  },
  {
   "cell_type": "code",
   "execution_count": 82,
   "metadata": {},
   "outputs": [
    {
     "data": {
      "text/plain": [
       "0                 New Delhi|Shimla|Manali|Chandigarh\n",
       "1                         Srinagar|Pahalgam|Srinagar\n",
       "2                                Udaipur|Chittorgarh\n",
       "3        Munnar|Kumarakom|Allepey|Kovalam and Poovar\n",
       "4                                    Pattaya|Bangkok\n",
       "                            ...                     \n",
       "20995                        Shimla|Manali|New Delhi\n",
       "20996             Srinagar|Gulmarg|Pahalgam|Srinagar\n",
       "20997                                        Colombo\n",
       "20998                     Darjeeling|Pelling|Gangtok\n",
       "20999                         Munnar|Kovalam|Allepey\n",
       "Name: Destination, Length: 21000, dtype: object"
      ]
     },
     "execution_count": 82,
     "metadata": {},
     "output_type": "execute_result"
    }
   ],
   "source": [
    "data['Destination']"
   ]
  },
  {
   "cell_type": "code",
   "execution_count": 84,
   "metadata": {},
   "outputs": [
    {
     "data": {
      "text/plain": [
       "0         New Delhi\n",
       "1          Srinagar\n",
       "2           Udaipur\n",
       "3            Munnar\n",
       "4           Pattaya\n",
       "            ...    \n",
       "20995        Shimla\n",
       "20996      Srinagar\n",
       "20997       Colombo\n",
       "20998    Darjeeling\n",
       "20999        Munnar\n",
       "Name: Start_Destination, Length: 21000, dtype: object"
      ]
     },
     "execution_count": 84,
     "metadata": {},
     "output_type": "execute_result"
    }
   ],
   "source": [
    "data['Start_Destination']"
   ]
  },
  {
   "cell_type": "code",
   "execution_count": 88,
   "metadata": {},
   "outputs": [
    {
     "data": {
      "text/plain": [
       "0           Mumbai\n",
       "1        New Delhi\n",
       "2        New Delhi\n",
       "3        New Delhi\n",
       "4        New Delhi\n",
       "           ...    \n",
       "20995       Mumbai\n",
       "20996    New Delhi\n",
       "20997    New Delhi\n",
       "20998    New Delhi\n",
       "20999    New Delhi\n",
       "Name: Start City, Length: 21000, dtype: object"
      ]
     },
     "execution_count": 88,
     "metadata": {},
     "output_type": "execute_result"
    }
   ],
   "source": [
    "data['Start City']"
   ]
  },
  {
   "cell_type": "code",
   "execution_count": 5,
   "metadata": {},
   "outputs": [],
   "source": [
    "data = data.fillna(0)"
   ]
  },
  {
   "cell_type": "code",
   "execution_count": 6,
   "metadata": {},
   "outputs": [],
   "source": [
    "from sklearn.preprocessing import LabelEncoder\n",
    "\n",
    "le = LabelEncoder()"
   ]
  },
  {
   "cell_type": "code",
   "execution_count": null,
   "metadata": {},
   "outputs": [],
   "source": []
  },
  {
   "cell_type": "code",
   "execution_count": 8,
   "metadata": {},
   "outputs": [],
   "source": [
    "data['Travel Year'] = le.fit_transform(data['Travel Year'])\n",
    "\n",
    "data['Travel Month'] = le.fit_transform(data['Travel Month'])\n",
    "\n",
    "data['Week_filter'] = le.fit_transform(data['Week_filter'])\n",
    "\n",
    "data['Cancellation Rules'] = le.fit_transform(data['Cancellation Rules'])\n",
    "\n",
    "data['Package Type'] = le.fit_transform(data['Package Type'])"
   ]
  },
  {
   "cell_type": "code",
   "execution_count": null,
   "metadata": {},
   "outputs": [],
   "source": []
  },
  {
   "cell_type": "code",
   "execution_count": null,
   "metadata": {},
   "outputs": [],
   "source": []
  },
  {
   "cell_type": "code",
   "execution_count": null,
   "metadata": {},
   "outputs": [],
   "source": []
  },
  {
   "cell_type": "code",
   "execution_count": 4,
   "metadata": {},
   "outputs": [],
   "source": [
    "dummies = pd.get_dummies(data['Travel Year']).rename(columns=lambda x: 'Category_' + str(x))\n",
    "# df = pd.concat([df, dummies], axis=1)\n",
    "# df = df.drop(['Category'], inplace=True, axis=1)"
   ]
  },
  {
   "cell_type": "code",
   "execution_count": 5,
   "metadata": {},
   "outputs": [],
   "source": [
    "\n",
    "data = pd.concat([data, dummies], axis=1)\n"
   ]
  },
  {
   "cell_type": "code",
   "execution_count": 6,
   "metadata": {},
   "outputs": [],
   "source": [
    "del data['Travel Year']"
   ]
  },
  {
   "cell_type": "code",
   "execution_count": 7,
   "metadata": {},
   "outputs": [
    {
     "data": {
      "text/plain": [
       "(21000, 1202)"
      ]
     },
     "execution_count": 7,
     "metadata": {},
     "output_type": "execute_result"
    }
   ],
   "source": [
    "data.shape"
   ]
  },
  {
   "cell_type": "code",
   "execution_count": 8,
   "metadata": {},
   "outputs": [
    {
     "data": {
      "text/plain": [
       "(21000, 12)"
      ]
     },
     "execution_count": 8,
     "metadata": {},
     "output_type": "execute_result"
    }
   ],
   "source": [
    "dummies1 = pd.get_dummies(data['Travel Month']).rename(columns=lambda x: 'Category_' + str(x))\n",
    "dummies1.shape\n"
   ]
  },
  {
   "cell_type": "code",
   "execution_count": 9,
   "metadata": {},
   "outputs": [
    {
     "data": {
      "text/plain": [
       "(21000, 1214)"
      ]
     },
     "execution_count": 9,
     "metadata": {},
     "output_type": "execute_result"
    }
   ],
   "source": [
    "data = pd.concat([data, dummies1], axis=1)\n",
    "data.shape"
   ]
  },
  {
   "cell_type": "code",
   "execution_count": 10,
   "metadata": {},
   "outputs": [],
   "source": [
    "del data['Travel Month']"
   ]
  },
  {
   "cell_type": "code",
   "execution_count": 11,
   "metadata": {},
   "outputs": [
    {
     "data": {
      "text/plain": [
       "(21000, 4)"
      ]
     },
     "execution_count": 11,
     "metadata": {},
     "output_type": "execute_result"
    }
   ],
   "source": [
    "\n",
    "\n",
    "dummies2 = pd.get_dummies(data['Week_filter']).rename(columns=lambda x: 'Category_' + str(x))\n",
    "dummies2.shape"
   ]
  },
  {
   "cell_type": "code",
   "execution_count": 12,
   "metadata": {},
   "outputs": [
    {
     "data": {
      "text/plain": [
       "(21000, 1217)"
      ]
     },
     "execution_count": 12,
     "metadata": {},
     "output_type": "execute_result"
    }
   ],
   "source": [
    "data = pd.concat([data, dummies2], axis=1)\n",
    "data.shape"
   ]
  },
  {
   "cell_type": "code",
   "execution_count": 13,
   "metadata": {},
   "outputs": [],
   "source": [
    "del data['Week_filter']"
   ]
  },
  {
   "cell_type": "code",
   "execution_count": 14,
   "metadata": {},
   "outputs": [
    {
     "data": {
      "text/plain": [
       "(21000, 10)"
      ]
     },
     "execution_count": 14,
     "metadata": {},
     "output_type": "execute_result"
    }
   ],
   "source": [
    "dummies3 = pd.get_dummies(data['Cancellation Rules']).rename(columns=lambda x: 'Category_' + str(x))\n",
    "dummies3.shape"
   ]
  },
  {
   "cell_type": "code",
   "execution_count": 15,
   "metadata": {},
   "outputs": [
    {
     "data": {
      "text/plain": [
       "(21000, 1226)"
      ]
     },
     "execution_count": 15,
     "metadata": {},
     "output_type": "execute_result"
    }
   ],
   "source": [
    "data = pd.concat([data, dummies3], axis=1)\n",
    "data.shape"
   ]
  },
  {
   "cell_type": "code",
   "execution_count": 16,
   "metadata": {},
   "outputs": [],
   "source": [
    "# data = pd.concat([data, dummies3], axis=1)\n",
    "# data.shape"
   ]
  },
  {
   "cell_type": "code",
   "execution_count": 17,
   "metadata": {},
   "outputs": [
    {
     "data": {
      "text/plain": [
       "(21000, 1226)"
      ]
     },
     "execution_count": 17,
     "metadata": {},
     "output_type": "execute_result"
    }
   ],
   "source": [
    "data.shape"
   ]
  },
  {
   "cell_type": "code",
   "execution_count": 18,
   "metadata": {},
   "outputs": [],
   "source": [
    "del data['Cancellation Rules']"
   ]
  },
  {
   "cell_type": "code",
   "execution_count": 19,
   "metadata": {},
   "outputs": [
    {
     "data": {
      "text/plain": [
       "(21000, 5)"
      ]
     },
     "execution_count": 19,
     "metadata": {},
     "output_type": "execute_result"
    }
   ],
   "source": [
    "\n",
    "\n",
    "dummies4 = pd.get_dummies(data['Package Type']).rename(columns=lambda x: 'Category_' + str(x))\n",
    "dummies4.shape"
   ]
  },
  {
   "cell_type": "code",
   "execution_count": null,
   "metadata": {},
   "outputs": [],
   "source": []
  },
  {
   "cell_type": "code",
   "execution_count": 20,
   "metadata": {},
   "outputs": [
    {
     "data": {
      "text/plain": [
       "(21000, 1230)"
      ]
     },
     "execution_count": 20,
     "metadata": {},
     "output_type": "execute_result"
    }
   ],
   "source": [
    "data = pd.concat([data, dummies4], axis=1)\n",
    "data.shape"
   ]
  },
  {
   "cell_type": "code",
   "execution_count": 9,
   "metadata": {},
   "outputs": [],
   "source": [
    "del data['Package Type']"
   ]
  },
  {
   "cell_type": "code",
   "execution_count": 10,
   "metadata": {},
   "outputs": [],
   "source": [
    "del data['Uniq Id']"
   ]
  },
  {
   "cell_type": "code",
   "execution_count": 23,
   "metadata": {},
   "outputs": [],
   "source": [
    "data.to_csv('clean_data.csv')"
   ]
  },
  {
   "cell_type": "code",
   "execution_count": 11,
   "metadata": {},
   "outputs": [],
   "source": [
    "# Target variable\n",
    "y = data['Per Person Price'].values"
   ]
  },
  {
   "cell_type": "code",
   "execution_count": 12,
   "metadata": {},
   "outputs": [
    {
     "data": {
      "text/plain": [
       "array([11509. , 22485.5, 12421.5, ..., 29964. , 28145.5, 15736. ])"
      ]
     },
     "execution_count": 12,
     "metadata": {},
     "output_type": "execute_result"
    }
   ],
   "source": [
    "y"
   ]
  },
  {
   "cell_type": "code",
   "execution_count": 13,
   "metadata": {},
   "outputs": [],
   "source": [
    "#Input variable\n",
    "X = data"
   ]
  },
  {
   "cell_type": "code",
   "execution_count": 14,
   "metadata": {},
   "outputs": [
    {
     "data": {
      "text/html": [
       "<div>\n",
       "<style scoped>\n",
       "    .dataframe tbody tr th:only-of-type {\n",
       "        vertical-align: middle;\n",
       "    }\n",
       "\n",
       "    .dataframe tbody tr th {\n",
       "        vertical-align: top;\n",
       "    }\n",
       "\n",
       "    .dataframe thead th {\n",
       "        text-align: right;\n",
       "    }\n",
       "</style>\n",
       "<table border=\"1\" class=\"dataframe\">\n",
       "  <thead>\n",
       "    <tr style=\"text-align: right;\">\n",
       "      <th></th>\n",
       "      <th>Flight Stops</th>\n",
       "      <th>Meals</th>\n",
       "      <th>Cancellation Rules</th>\n",
       "      <th>Per Person Price</th>\n",
       "      <th>not available</th>\n",
       "      <th>dal lake</th>\n",
       "      <th>avantipura ruins</th>\n",
       "      <th>mughal gardens</th>\n",
       "      <th>cheshma shahi</th>\n",
       "      <th>nishat bagh</th>\n",
       "      <th>...</th>\n",
       "      <th>turkish airlines</th>\n",
       "      <th>brussels airlines</th>\n",
       "      <th>cathay pacific</th>\n",
       "      <th>air austral</th>\n",
       "      <th>south african airways</th>\n",
       "      <th>ethiopian airlines</th>\n",
       "      <th>sichuan airlines</th>\n",
       "      <th>Travel Year</th>\n",
       "      <th>Travel Month</th>\n",
       "      <th>Week_filter</th>\n",
       "    </tr>\n",
       "  </thead>\n",
       "  <tbody>\n",
       "    <tr>\n",
       "      <th>0</th>\n",
       "      <td>2</td>\n",
       "      <td>3</td>\n",
       "      <td>5</td>\n",
       "      <td>11509.0</td>\n",
       "      <td>1.0</td>\n",
       "      <td>0.0</td>\n",
       "      <td>0.0</td>\n",
       "      <td>0.0</td>\n",
       "      <td>0.0</td>\n",
       "      <td>0.0</td>\n",
       "      <td>...</td>\n",
       "      <td>0.0</td>\n",
       "      <td>0.0</td>\n",
       "      <td>0.0</td>\n",
       "      <td>0.0</td>\n",
       "      <td>0.0</td>\n",
       "      <td>0.0</td>\n",
       "      <td>0.0</td>\n",
       "      <td>0</td>\n",
       "      <td>5</td>\n",
       "      <td>3</td>\n",
       "    </tr>\n",
       "    <tr>\n",
       "      <th>1</th>\n",
       "      <td>0</td>\n",
       "      <td>5</td>\n",
       "      <td>0</td>\n",
       "      <td>22485.5</td>\n",
       "      <td>0.0</td>\n",
       "      <td>1.0</td>\n",
       "      <td>1.0</td>\n",
       "      <td>1.0</td>\n",
       "      <td>1.0</td>\n",
       "      <td>1.0</td>\n",
       "      <td>...</td>\n",
       "      <td>0.0</td>\n",
       "      <td>0.0</td>\n",
       "      <td>0.0</td>\n",
       "      <td>0.0</td>\n",
       "      <td>0.0</td>\n",
       "      <td>0.0</td>\n",
       "      <td>0.0</td>\n",
       "      <td>0</td>\n",
       "      <td>2</td>\n",
       "      <td>0</td>\n",
       "    </tr>\n",
       "    <tr>\n",
       "      <th>2</th>\n",
       "      <td>0</td>\n",
       "      <td>4</td>\n",
       "      <td>0</td>\n",
       "      <td>12421.5</td>\n",
       "      <td>0.0</td>\n",
       "      <td>0.0</td>\n",
       "      <td>0.0</td>\n",
       "      <td>0.0</td>\n",
       "      <td>0.0</td>\n",
       "      <td>0.0</td>\n",
       "      <td>...</td>\n",
       "      <td>0.0</td>\n",
       "      <td>0.0</td>\n",
       "      <td>0.0</td>\n",
       "      <td>0.0</td>\n",
       "      <td>0.0</td>\n",
       "      <td>0.0</td>\n",
       "      <td>0.0</td>\n",
       "      <td>0</td>\n",
       "      <td>0</td>\n",
       "      <td>3</td>\n",
       "    </tr>\n",
       "    <tr>\n",
       "      <th>3</th>\n",
       "      <td>0</td>\n",
       "      <td>5</td>\n",
       "      <td>0</td>\n",
       "      <td>35967.0</td>\n",
       "      <td>0.0</td>\n",
       "      <td>0.0</td>\n",
       "      <td>0.0</td>\n",
       "      <td>0.0</td>\n",
       "      <td>0.0</td>\n",
       "      <td>0.0</td>\n",
       "      <td>...</td>\n",
       "      <td>0.0</td>\n",
       "      <td>0.0</td>\n",
       "      <td>0.0</td>\n",
       "      <td>0.0</td>\n",
       "      <td>0.0</td>\n",
       "      <td>0.0</td>\n",
       "      <td>0.0</td>\n",
       "      <td>0</td>\n",
       "      <td>1</td>\n",
       "      <td>3</td>\n",
       "    </tr>\n",
       "    <tr>\n",
       "      <th>4</th>\n",
       "      <td>0</td>\n",
       "      <td>5</td>\n",
       "      <td>0</td>\n",
       "      <td>25584.0</td>\n",
       "      <td>0.0</td>\n",
       "      <td>0.0</td>\n",
       "      <td>0.0</td>\n",
       "      <td>0.0</td>\n",
       "      <td>0.0</td>\n",
       "      <td>0.0</td>\n",
       "      <td>...</td>\n",
       "      <td>0.0</td>\n",
       "      <td>0.0</td>\n",
       "      <td>0.0</td>\n",
       "      <td>0.0</td>\n",
       "      <td>0.0</td>\n",
       "      <td>0.0</td>\n",
       "      <td>0.0</td>\n",
       "      <td>0</td>\n",
       "      <td>2</td>\n",
       "      <td>1</td>\n",
       "    </tr>\n",
       "  </tbody>\n",
       "</table>\n",
       "<p>5 rows × 1199 columns</p>\n",
       "</div>"
      ],
      "text/plain": [
       "   Flight Stops  Meals  Cancellation Rules  Per Person Price  not available  \\\n",
       "0             2      3                   5           11509.0            1.0   \n",
       "1             0      5                   0           22485.5            0.0   \n",
       "2             0      4                   0           12421.5            0.0   \n",
       "3             0      5                   0           35967.0            0.0   \n",
       "4             0      5                   0           25584.0            0.0   \n",
       "\n",
       "    dal lake    avantipura ruins    mughal gardens    cheshma shahi   \\\n",
       "0         0.0                 0.0               0.0              0.0   \n",
       "1         1.0                 1.0               1.0              1.0   \n",
       "2         0.0                 0.0               0.0              0.0   \n",
       "3         0.0                 0.0               0.0              0.0   \n",
       "4         0.0                 0.0               0.0              0.0   \n",
       "\n",
       "    nishat bagh   ...  turkish airlines  brussels airlines  cathay pacific  \\\n",
       "0            0.0  ...               0.0                0.0             0.0   \n",
       "1            1.0  ...               0.0                0.0             0.0   \n",
       "2            0.0  ...               0.0                0.0             0.0   \n",
       "3            0.0  ...               0.0                0.0             0.0   \n",
       "4            0.0  ...               0.0                0.0             0.0   \n",
       "\n",
       "   air austral  south african airways  ethiopian airlines  sichuan airlines  \\\n",
       "0          0.0                    0.0                 0.0               0.0   \n",
       "1          0.0                    0.0                 0.0               0.0   \n",
       "2          0.0                    0.0                 0.0               0.0   \n",
       "3          0.0                    0.0                 0.0               0.0   \n",
       "4          0.0                    0.0                 0.0               0.0   \n",
       "\n",
       "   Travel Year  Travel Month  Week_filter  \n",
       "0            0             5            3  \n",
       "1            0             2            0  \n",
       "2            0             0            3  \n",
       "3            0             1            3  \n",
       "4            0             2            1  \n",
       "\n",
       "[5 rows x 1199 columns]"
      ]
     },
     "execution_count": 14,
     "metadata": {},
     "output_type": "execute_result"
    }
   ],
   "source": [
    "X.head()"
   ]
  },
  {
   "cell_type": "code",
   "execution_count": 15,
   "metadata": {},
   "outputs": [],
   "source": [
    "#Removing target variable\n",
    "\n",
    "del X['Per Person Price']"
   ]
  },
  {
   "cell_type": "code",
   "execution_count": 16,
   "metadata": {},
   "outputs": [
    {
     "data": {
      "text/plain": [
       "(21000, 1198)"
      ]
     },
     "execution_count": 16,
     "metadata": {},
     "output_type": "execute_result"
    }
   ],
   "source": [
    "X.shape"
   ]
  },
  {
   "cell_type": "code",
   "execution_count": 17,
   "metadata": {},
   "outputs": [],
   "source": [
    "X=X.fillna(0)"
   ]
  },
  {
   "cell_type": "code",
   "execution_count": 19,
   "metadata": {},
   "outputs": [
    {
     "name": "stdout",
     "output_type": "stream",
     "text": [
      "0.9964216662196467\n"
     ]
    }
   ],
   "source": [
    "from sklearn.decomposition import PCA\n",
    "# Apply PCA for dimension reduction\n",
    "pca = PCA(n_components=500).fit(X)\n",
    "X_pca = pca.transform(X)\n",
    "print(sum(pca.explained_variance_ratio_)) "
   ]
  },
  {
   "cell_type": "code",
   "execution_count": 35,
   "metadata": {},
   "outputs": [],
   "source": [
    "import pandas as pd  \n",
    "import numpy as np  \n",
    "import matplotlib.pyplot as plt  \n",
    "import seaborn as seabornInstance \n",
    "from sklearn.model_selection import train_test_split \n",
    "from sklearn.linear_model import LinearRegression\n",
    "from sklearn import metrics\n",
    "%matplotlib inline\n",
    "\n",
    "#Splitting the data\n",
    "\n",
    "X_train, X_test, y_train, y_test = train_test_split(X, y, test_size=0.3, random_state=0)"
   ]
  },
  {
   "cell_type": "code",
   "execution_count": 36,
   "metadata": {},
   "outputs": [
    {
     "data": {
      "text/plain": [
       "LinearRegression()"
      ]
     },
     "execution_count": 36,
     "metadata": {},
     "output_type": "execute_result"
    }
   ],
   "source": [
    "regressor = LinearRegression()  \n",
    "regressor.fit(X_train, y_train)"
   ]
  },
  {
   "cell_type": "code",
   "execution_count": 37,
   "metadata": {},
   "outputs": [
    {
     "data": {
      "text/plain": [
       "array([ 9663. , 18215.5, 24342. , ..., 42694. , 36052. , 12199.5])"
      ]
     },
     "execution_count": 37,
     "metadata": {},
     "output_type": "execute_result"
    }
   ],
   "source": [
    "y_test "
   ]
  },
  {
   "cell_type": "code",
   "execution_count": 38,
   "metadata": {},
   "outputs": [],
   "source": [
    "y_pred = regressor.predict(X_test)"
   ]
  },
  {
   "cell_type": "code",
   "execution_count": 39,
   "metadata": {},
   "outputs": [
    {
     "data": {
      "text/plain": [
       "array([ 9135.31187367, 20702.92613148, 27254.57652211, ...,\n",
       "       26604.40310754, 32274.41353194, 17644.1045358 ])"
      ]
     },
     "execution_count": 39,
     "metadata": {},
     "output_type": "execute_result"
    }
   ],
   "source": [
    "y_pred"
   ]
  },
  {
   "cell_type": "code",
   "execution_count": 40,
   "metadata": {},
   "outputs": [],
   "source": [
    "df = pd.DataFrame({'Actual': y_test, 'Predicted': y_pred})\n",
    "df1 = df.head(25)"
   ]
  },
  {
   "cell_type": "code",
   "execution_count": 41,
   "metadata": {},
   "outputs": [
    {
     "data": {
      "image/png": "[encoded data removed]",
      "text/plain": [
       "<Figure size 720x576 with 1 Axes>"
      ]
     },
     "metadata": {
      "needs_background": "light"
     },
     "output_type": "display_data"
    }
   ],
   "source": [
    "df1.plot(kind='bar',figsize=(10,8))\n",
    "plt.grid(which='major', linestyle='-', linewidth='0.5', color='green')\n",
    "plt.grid(which='minor', linestyle=':', linewidth='0.5', color='black')\n",
    "plt.show()"
   ]
  },
  {
   "cell_type": "code",
   "execution_count": 42,
   "metadata": {},
   "outputs": [
    {
     "name": "stdout",
     "output_type": "stream",
     "text": [
      "Mean Absolute Error: 653548207.6121726\n",
      "Mean Squared Error: 1.000395720055706e+21\n",
      "Root Mean Squared Error: 31629032866.271866\n"
     ]
    }
   ],
   "source": [
    "print('Mean Absolute Error:', metrics.mean_absolute_error(y_test, y_pred))  \n",
    "print('Mean Squared Error:', metrics.mean_squared_error(y_test, y_pred))  \n",
    "print('Root Mean Squared Error:', np.sqrt(metrics.mean_squared_error(y_test, y_pred)))"
   ]
  },
  {
   "cell_type": "code",
   "execution_count": 43,
   "metadata": {
    "scrolled": true
   },
   "outputs": [
    {
     "data": {
      "text/plain": [
       "RandomForestRegressor(n_estimators=50, random_state=0)"
      ]
     },
     "execution_count": 43,
     "metadata": {},
     "output_type": "execute_result"
    }
   ],
   "source": [
    "from sklearn.ensemble import RandomForestRegressor\n",
    "rfr = RandomForestRegressor(n_estimators = 50, random_state = 0)\n",
    "rfr.fit(X_train, y_train)"
   ]
  },
  {
   "cell_type": "code",
   "execution_count": 44,
   "metadata": {},
   "outputs": [
    {
     "name": "stdout",
     "output_type": "stream",
     "text": [
      "[ 8508.92866667 16854.45       24722.87       ... 29734.91666667\n",
      " 32301.53       14875.55      ]\n"
     ]
    }
   ],
   "source": [
    "print(rfr.predict(X_test))"
   ]
  },
  {
   "cell_type": "code",
   "execution_count": 45,
   "metadata": {},
   "outputs": [],
   "source": [
    "y_pred = rfr.predict(X_test)"
   ]
  },
  {
   "cell_type": "code",
   "execution_count": 46,
   "metadata": {},
   "outputs": [
    {
     "name": "stdout",
     "output_type": "stream",
     "text": [
      "Mean Absolute Error: 3794.8305777885435\n",
      "Mean Squared Error: 43306705.86907722\n",
      "Root Mean Squared Error: 6580.783074154414\n"
     ]
    }
   ],
   "source": [
    "from sklearn import metrics\n",
    "\n",
    "print('Mean Absolute Error:', metrics.mean_absolute_error(y_test, y_pred))\n",
    "print('Mean Squared Error:', metrics.mean_squared_error(y_test, y_pred))\n",
    "print('Root Mean Squared Error:', np.sqrt(metrics.mean_squared_error(y_test, y_pred)))"
   ]
  },
  {
   "cell_type": "code",
   "execution_count": 47,
   "metadata": {},
   "outputs": [],
   "source": [
    "hyper_params = {\n",
    "    'task': 'train',\n",
    "    'boosting_type': 'gbdt',\n",
    "    'objective': 'regression',\n",
    "    'metric': ['l2', 'auc'],\n",
    "    'learning_rate': 0.005,\n",
    "    'feature_fraction': 0.9,\n",
    "    'bagging_fraction': 0.7,\n",
    "    'bagging_freq': 10,\n",
    "    'verbose': 0,\n",
    "    \"max_depth\": 8,\n",
    "    \"num_leaves\": 128,  \n",
    "    \"max_bin\": 512,\n",
    "    \"num_iterations\": 100000,\n",
    "    \"n_estimators\": 1000\n",
    "}"
   ]
  },
  {
   "cell_type": "code",
   "execution_count": 48,
   "metadata": {},
   "outputs": [],
   "source": [
    "import math\n",
    "import numpy as np\n",
    "import pandas as pd\n",
    "import matplotlib.pyplot as plt\n",
    "%matplotlib inline\n",
    "import seaborn as sns\n",
    "from scipy.stats import norm\n",
    "import lightgbm as lgb\n",
    "from sklearn.model_selection import train_test_split\n",
    "from sklearn.metrics import mean_squared_log_error\n",
    "from sklearn import preprocessing\n",
    "#from sklearn.preprocessing import StandardScaler, PolynomialFeatures, Imputer\n",
    "from sklearn.model_selection import cross_val_score, cross_val_predict\n",
    "import os\n",
    "\n",
    "gbm = lgb.LGBMRegressor(**hyper_params)"
   ]
  },
  {
   "cell_type": "code",
   "execution_count": 120,
   "metadata": {},
   "outputs": [
    {
     "name": "stdout",
     "output_type": "stream",
     "text": [
      "Collecting lightgbm\n",
      "  Downloading lightgbm-3.2.0-py3-none-win_amd64.whl (1.0 MB)\n",
      "Requirement already satisfied: scikit-learn!=0.22.0 in c:\\users\\sumit\\anaconda3\\lib\\site-packages (from lightgbm) (0.23.2)\n",
      "Requirement already satisfied: wheel in c:\\users\\sumit\\anaconda3\\lib\\site-packages (from lightgbm) (0.35.1)\n",
      "Requirement already satisfied: scipy in c:\\users\\sumit\\anaconda3\\lib\\site-packages (from lightgbm) (1.5.2)\n",
      "Requirement already satisfied: numpy in c:\\users\\sumit\\anaconda3\\lib\\site-packages (from lightgbm) (1.19.2)\n",
      "Requirement already satisfied: joblib>=0.11 in c:\\users\\sumit\\anaconda3\\lib\\site-packages (from scikit-learn!=0.22.0->lightgbm) (0.17.0)\n",
      "Requirement already satisfied: threadpoolctl>=2.0.0 in c:\\users\\sumit\\anaconda3\\lib\\site-packages (from scikit-learn!=0.22.0->lightgbm) (2.1.0)\n",
      "Installing collected packages: lightgbm\n",
      "Successfully installed lightgbm-3.2.0\n"
     ]
    }
   ],
   "source": [
    "!pip install lightgbm"
   ]
  },
  {
   "cell_type": "code",
   "execution_count": 50,
   "metadata": {},
   "outputs": [],
   "source": [
    "import re\n",
    "X = X.rename(columns = lambda x:re.sub('[^A-Za-z0-9_]+', '', x))"
   ]
  },
  {
   "cell_type": "code",
   "execution_count": 51,
   "metadata": {},
   "outputs": [
    {
     "name": "stdout",
     "output_type": "stream",
     "text": [
      "[LightGBM] [Warning] feature_fraction is set=0.9, colsample_bytree=1.0 will be ignored. Current value: feature_fraction=0.9\n",
      "[LightGBM] [Warning] bagging_fraction is set=0.7, subsample=1.0 will be ignored. Current value: bagging_fraction=0.7\n",
      "[LightGBM] [Warning] bagging_freq is set=10, subsample_freq=0 will be ignored. Current value: bagging_freq=10\n"
     ]
    },
    {
     "ename": "LightGBMError",
     "evalue": "Feature (dolphinsnose) appears more than one time.",
     "output_type": "error",
     "traceback": [
      "\u001b[1;31m---------------------------------------------------------------------------\u001b[0m",
      "\u001b[1;31mLightGBMError\u001b[0m                             Traceback (most recent call last)",
      "\u001b[1;32m<ipython-input-51-3b7461173d68>\u001b[0m in \u001b[0;36m<module>\u001b[1;34m\u001b[0m\n\u001b[0;32m     12\u001b[0m \u001b[0mX_train\u001b[0m\u001b[1;33m,\u001b[0m \u001b[0mX_test\u001b[0m\u001b[1;33m,\u001b[0m \u001b[0my_train\u001b[0m\u001b[1;33m,\u001b[0m \u001b[0my_test\u001b[0m \u001b[1;33m=\u001b[0m \u001b[0mtrain_test_split\u001b[0m\u001b[1;33m(\u001b[0m\u001b[0mX\u001b[0m\u001b[1;33m,\u001b[0m \u001b[0my\u001b[0m\u001b[1;33m,\u001b[0m \u001b[0mtest_size\u001b[0m\u001b[1;33m=\u001b[0m\u001b[1;36m0.3\u001b[0m\u001b[1;33m,\u001b[0m \u001b[0mrandom_state\u001b[0m\u001b[1;33m=\u001b[0m\u001b[1;36m0\u001b[0m\u001b[1;33m)\u001b[0m\u001b[1;33m\u001b[0m\u001b[1;33m\u001b[0m\u001b[0m\n\u001b[0;32m     13\u001b[0m \u001b[1;33m\u001b[0m\u001b[0m\n\u001b[1;32m---> 14\u001b[1;33m gbm.fit(X_train, y_train,\n\u001b[0m\u001b[0;32m     15\u001b[0m         \u001b[0meval_set\u001b[0m\u001b[1;33m=\u001b[0m\u001b[1;33m[\u001b[0m\u001b[1;33m(\u001b[0m\u001b[0mX_test\u001b[0m\u001b[1;33m,\u001b[0m \u001b[0my_test\u001b[0m\u001b[1;33m)\u001b[0m\u001b[1;33m]\u001b[0m\u001b[1;33m,\u001b[0m\u001b[1;33m\u001b[0m\u001b[1;33m\u001b[0m\u001b[0m\n\u001b[0;32m     16\u001b[0m         \u001b[0meval_metric\u001b[0m\u001b[1;33m=\u001b[0m\u001b[1;34m'l1'\u001b[0m\u001b[1;33m,\u001b[0m\u001b[1;33m\u001b[0m\u001b[1;33m\u001b[0m\u001b[0m\n",
      "\u001b[1;32m~\\anaconda3\\lib\\site-packages\\lightgbm\\sklearn.py\u001b[0m in \u001b[0;36mfit\u001b[1;34m(self, X, y, sample_weight, init_score, eval_set, eval_names, eval_sample_weight, eval_init_score, eval_metric, early_stopping_rounds, verbose, feature_name, categorical_feature, callbacks, init_model)\u001b[0m\n\u001b[0;32m    816\u001b[0m             callbacks=None, init_model=None):\n\u001b[0;32m    817\u001b[0m         \u001b[1;34m\"\"\"Docstring is inherited from the LGBMModel.\"\"\"\u001b[0m\u001b[1;33m\u001b[0m\u001b[1;33m\u001b[0m\u001b[0m\n\u001b[1;32m--> 818\u001b[1;33m         super().fit(X, y, sample_weight=sample_weight, init_score=init_score,\n\u001b[0m\u001b[0;32m    819\u001b[0m                     \u001b[0meval_set\u001b[0m\u001b[1;33m=\u001b[0m\u001b[0meval_set\u001b[0m\u001b[1;33m,\u001b[0m \u001b[0meval_names\u001b[0m\u001b[1;33m=\u001b[0m\u001b[0meval_names\u001b[0m\u001b[1;33m,\u001b[0m \u001b[0meval_sample_weight\u001b[0m\u001b[1;33m=\u001b[0m\u001b[0meval_sample_weight\u001b[0m\u001b[1;33m,\u001b[0m\u001b[1;33m\u001b[0m\u001b[1;33m\u001b[0m\u001b[0m\n\u001b[0;32m    820\u001b[0m                     \u001b[0meval_init_score\u001b[0m\u001b[1;33m=\u001b[0m\u001b[0meval_init_score\u001b[0m\u001b[1;33m,\u001b[0m \u001b[0meval_metric\u001b[0m\u001b[1;33m=\u001b[0m\u001b[0meval_metric\u001b[0m\u001b[1;33m,\u001b[0m\u001b[1;33m\u001b[0m\u001b[1;33m\u001b[0m\u001b[0m\n",
      "\u001b[1;32m~\\anaconda3\\lib\\site-packages\\lightgbm\\sklearn.py\u001b[0m in \u001b[0;36mfit\u001b[1;34m(self, X, y, sample_weight, init_score, group, eval_set, eval_names, eval_sample_weight, eval_class_weight, eval_init_score, eval_group, eval_metric, early_stopping_rounds, verbose, feature_name, categorical_feature, callbacks, init_model)\u001b[0m\n\u001b[0;32m    681\u001b[0m             \u001b[0minit_model\u001b[0m \u001b[1;33m=\u001b[0m \u001b[0minit_model\u001b[0m\u001b[1;33m.\u001b[0m\u001b[0mbooster_\u001b[0m\u001b[1;33m\u001b[0m\u001b[1;33m\u001b[0m\u001b[0m\n\u001b[0;32m    682\u001b[0m \u001b[1;33m\u001b[0m\u001b[0m\n\u001b[1;32m--> 683\u001b[1;33m         self._Booster = train(params, train_set,\n\u001b[0m\u001b[0;32m    684\u001b[0m                               \u001b[0mself\u001b[0m\u001b[1;33m.\u001b[0m\u001b[0mn_estimators\u001b[0m\u001b[1;33m,\u001b[0m \u001b[0mvalid_sets\u001b[0m\u001b[1;33m=\u001b[0m\u001b[0mvalid_sets\u001b[0m\u001b[1;33m,\u001b[0m \u001b[0mvalid_names\u001b[0m\u001b[1;33m=\u001b[0m\u001b[0meval_names\u001b[0m\u001b[1;33m,\u001b[0m\u001b[1;33m\u001b[0m\u001b[1;33m\u001b[0m\u001b[0m\n\u001b[0;32m    685\u001b[0m                               \u001b[0mearly_stopping_rounds\u001b[0m\u001b[1;33m=\u001b[0m\u001b[0mearly_stopping_rounds\u001b[0m\u001b[1;33m,\u001b[0m\u001b[1;33m\u001b[0m\u001b[1;33m\u001b[0m\u001b[0m\n",
      "\u001b[1;32m~\\anaconda3\\lib\\site-packages\\lightgbm\\engine.py\u001b[0m in \u001b[0;36mtrain\u001b[1;34m(params, train_set, num_boost_round, valid_sets, valid_names, fobj, feval, init_model, feature_name, categorical_feature, early_stopping_rounds, evals_result, verbose_eval, learning_rates, keep_training_booster, callbacks)\u001b[0m\n\u001b[0;32m    226\u001b[0m     \u001b[1;31m# construct booster\u001b[0m\u001b[1;33m\u001b[0m\u001b[1;33m\u001b[0m\u001b[1;33m\u001b[0m\u001b[0m\n\u001b[0;32m    227\u001b[0m     \u001b[1;32mtry\u001b[0m\u001b[1;33m:\u001b[0m\u001b[1;33m\u001b[0m\u001b[1;33m\u001b[0m\u001b[0m\n\u001b[1;32m--> 228\u001b[1;33m         \u001b[0mbooster\u001b[0m \u001b[1;33m=\u001b[0m \u001b[0mBooster\u001b[0m\u001b[1;33m(\u001b[0m\u001b[0mparams\u001b[0m\u001b[1;33m=\u001b[0m\u001b[0mparams\u001b[0m\u001b[1;33m,\u001b[0m \u001b[0mtrain_set\u001b[0m\u001b[1;33m=\u001b[0m\u001b[0mtrain_set\u001b[0m\u001b[1;33m)\u001b[0m\u001b[1;33m\u001b[0m\u001b[1;33m\u001b[0m\u001b[0m\n\u001b[0m\u001b[0;32m    229\u001b[0m         \u001b[1;32mif\u001b[0m \u001b[0mis_valid_contain_train\u001b[0m\u001b[1;33m:\u001b[0m\u001b[1;33m\u001b[0m\u001b[1;33m\u001b[0m\u001b[0m\n\u001b[0;32m    230\u001b[0m             \u001b[0mbooster\u001b[0m\u001b[1;33m.\u001b[0m\u001b[0mset_train_data_name\u001b[0m\u001b[1;33m(\u001b[0m\u001b[0mtrain_data_name\u001b[0m\u001b[1;33m)\u001b[0m\u001b[1;33m\u001b[0m\u001b[1;33m\u001b[0m\u001b[0m\n",
      "\u001b[1;32m~\\anaconda3\\lib\\site-packages\\lightgbm\\basic.py\u001b[0m in \u001b[0;36m__init__\u001b[1;34m(self, params, train_set, model_file, model_str, silent)\u001b[0m\n\u001b[0;32m   2227\u001b[0m                 )\n\u001b[0;32m   2228\u001b[0m             \u001b[1;31m# construct booster object\u001b[0m\u001b[1;33m\u001b[0m\u001b[1;33m\u001b[0m\u001b[1;33m\u001b[0m\u001b[0m\n\u001b[1;32m-> 2229\u001b[1;33m             \u001b[0mtrain_set\u001b[0m\u001b[1;33m.\u001b[0m\u001b[0mconstruct\u001b[0m\u001b[1;33m(\u001b[0m\u001b[1;33m)\u001b[0m\u001b[1;33m\u001b[0m\u001b[1;33m\u001b[0m\u001b[0m\n\u001b[0m\u001b[0;32m   2230\u001b[0m             \u001b[1;31m# copy the parameters from train_set\u001b[0m\u001b[1;33m\u001b[0m\u001b[1;33m\u001b[0m\u001b[1;33m\u001b[0m\u001b[0m\n\u001b[0;32m   2231\u001b[0m             \u001b[0mparams\u001b[0m\u001b[1;33m.\u001b[0m\u001b[0mupdate\u001b[0m\u001b[1;33m(\u001b[0m\u001b[0mtrain_set\u001b[0m\u001b[1;33m.\u001b[0m\u001b[0mget_params\u001b[0m\u001b[1;33m(\u001b[0m\u001b[1;33m)\u001b[0m\u001b[1;33m)\u001b[0m\u001b[1;33m\u001b[0m\u001b[1;33m\u001b[0m\u001b[0m\n",
      "\u001b[1;32m~\\anaconda3\\lib\\site-packages\\lightgbm\\basic.py\u001b[0m in \u001b[0;36mconstruct\u001b[1;34m(self)\u001b[0m\n\u001b[0;32m   1466\u001b[0m             \u001b[1;32melse\u001b[0m\u001b[1;33m:\u001b[0m\u001b[1;33m\u001b[0m\u001b[1;33m\u001b[0m\u001b[0m\n\u001b[0;32m   1467\u001b[0m                 \u001b[1;31m# create train\u001b[0m\u001b[1;33m\u001b[0m\u001b[1;33m\u001b[0m\u001b[1;33m\u001b[0m\u001b[0m\n\u001b[1;32m-> 1468\u001b[1;33m                 self._lazy_init(self.data, label=self.label,\n\u001b[0m\u001b[0;32m   1469\u001b[0m                                 \u001b[0mweight\u001b[0m\u001b[1;33m=\u001b[0m\u001b[0mself\u001b[0m\u001b[1;33m.\u001b[0m\u001b[0mweight\u001b[0m\u001b[1;33m,\u001b[0m \u001b[0mgroup\u001b[0m\u001b[1;33m=\u001b[0m\u001b[0mself\u001b[0m\u001b[1;33m.\u001b[0m\u001b[0mgroup\u001b[0m\u001b[1;33m,\u001b[0m\u001b[1;33m\u001b[0m\u001b[1;33m\u001b[0m\u001b[0m\n\u001b[0;32m   1470\u001b[0m                                 \u001b[0minit_score\u001b[0m\u001b[1;33m=\u001b[0m\u001b[0mself\u001b[0m\u001b[1;33m.\u001b[0m\u001b[0minit_score\u001b[0m\u001b[1;33m,\u001b[0m \u001b[0mpredictor\u001b[0m\u001b[1;33m=\u001b[0m\u001b[0mself\u001b[0m\u001b[1;33m.\u001b[0m\u001b[0m_predictor\u001b[0m\u001b[1;33m,\u001b[0m\u001b[1;33m\u001b[0m\u001b[1;33m\u001b[0m\u001b[0m\n",
      "\u001b[1;32m~\\anaconda3\\lib\\site-packages\\lightgbm\\basic.py\u001b[0m in \u001b[0;36m_lazy_init\u001b[1;34m(self, data, label, reference, weight, group, init_score, predictor, silent, feature_name, categorical_feature, params)\u001b[0m\n\u001b[0;32m   1296\u001b[0m             \u001b[1;32mraise\u001b[0m \u001b[0mTypeError\u001b[0m\u001b[1;33m(\u001b[0m\u001b[1;34m'Wrong predictor type {}'\u001b[0m\u001b[1;33m.\u001b[0m\u001b[0mformat\u001b[0m\u001b[1;33m(\u001b[0m\u001b[0mtype\u001b[0m\u001b[1;33m(\u001b[0m\u001b[0mpredictor\u001b[0m\u001b[1;33m)\u001b[0m\u001b[1;33m.\u001b[0m\u001b[0m__name__\u001b[0m\u001b[1;33m)\u001b[0m\u001b[1;33m)\u001b[0m\u001b[1;33m\u001b[0m\u001b[1;33m\u001b[0m\u001b[0m\n\u001b[0;32m   1297\u001b[0m         \u001b[1;31m# set feature names\u001b[0m\u001b[1;33m\u001b[0m\u001b[1;33m\u001b[0m\u001b[1;33m\u001b[0m\u001b[0m\n\u001b[1;32m-> 1298\u001b[1;33m         \u001b[1;32mreturn\u001b[0m \u001b[0mself\u001b[0m\u001b[1;33m.\u001b[0m\u001b[0mset_feature_name\u001b[0m\u001b[1;33m(\u001b[0m\u001b[0mfeature_name\u001b[0m\u001b[1;33m)\u001b[0m\u001b[1;33m\u001b[0m\u001b[1;33m\u001b[0m\u001b[0m\n\u001b[0m\u001b[0;32m   1299\u001b[0m \u001b[1;33m\u001b[0m\u001b[0m\n\u001b[0;32m   1300\u001b[0m     \u001b[1;32mdef\u001b[0m \u001b[0m__init_from_np2d\u001b[0m\u001b[1;33m(\u001b[0m\u001b[0mself\u001b[0m\u001b[1;33m,\u001b[0m \u001b[0mmat\u001b[0m\u001b[1;33m,\u001b[0m \u001b[0mparams_str\u001b[0m\u001b[1;33m,\u001b[0m \u001b[0mref_dataset\u001b[0m\u001b[1;33m)\u001b[0m\u001b[1;33m:\u001b[0m\u001b[1;33m\u001b[0m\u001b[1;33m\u001b[0m\u001b[0m\n",
      "\u001b[1;32m~\\anaconda3\\lib\\site-packages\\lightgbm\\basic.py\u001b[0m in \u001b[0;36mset_feature_name\u001b[1;34m(self, feature_name)\u001b[0m\n\u001b[0;32m   1778\u001b[0m                                  .format(len(feature_name), self.num_feature()))\n\u001b[0;32m   1779\u001b[0m             \u001b[0mc_feature_name\u001b[0m \u001b[1;33m=\u001b[0m \u001b[1;33m[\u001b[0m\u001b[0mc_str\u001b[0m\u001b[1;33m(\u001b[0m\u001b[0mname\u001b[0m\u001b[1;33m)\u001b[0m \u001b[1;32mfor\u001b[0m \u001b[0mname\u001b[0m \u001b[1;32min\u001b[0m \u001b[0mfeature_name\u001b[0m\u001b[1;33m]\u001b[0m\u001b[1;33m\u001b[0m\u001b[1;33m\u001b[0m\u001b[0m\n\u001b[1;32m-> 1780\u001b[1;33m             _safe_call(_LIB.LGBM_DatasetSetFeatureNames(\n\u001b[0m\u001b[0;32m   1781\u001b[0m                 \u001b[0mself\u001b[0m\u001b[1;33m.\u001b[0m\u001b[0mhandle\u001b[0m\u001b[1;33m,\u001b[0m\u001b[1;33m\u001b[0m\u001b[1;33m\u001b[0m\u001b[0m\n\u001b[0;32m   1782\u001b[0m                 \u001b[0mc_array\u001b[0m\u001b[1;33m(\u001b[0m\u001b[0mctypes\u001b[0m\u001b[1;33m.\u001b[0m\u001b[0mc_char_p\u001b[0m\u001b[1;33m,\u001b[0m \u001b[0mc_feature_name\u001b[0m\u001b[1;33m)\u001b[0m\u001b[1;33m,\u001b[0m\u001b[1;33m\u001b[0m\u001b[1;33m\u001b[0m\u001b[0m\n",
      "\u001b[1;32m~\\anaconda3\\lib\\site-packages\\lightgbm\\basic.py\u001b[0m in \u001b[0;36m_safe_call\u001b[1;34m(ret)\u001b[0m\n\u001b[0;32m    108\u001b[0m     \"\"\"\n\u001b[0;32m    109\u001b[0m     \u001b[1;32mif\u001b[0m \u001b[0mret\u001b[0m \u001b[1;33m!=\u001b[0m \u001b[1;36m0\u001b[0m\u001b[1;33m:\u001b[0m\u001b[1;33m\u001b[0m\u001b[1;33m\u001b[0m\u001b[0m\n\u001b[1;32m--> 110\u001b[1;33m         \u001b[1;32mraise\u001b[0m \u001b[0mLightGBMError\u001b[0m\u001b[1;33m(\u001b[0m\u001b[0m_LIB\u001b[0m\u001b[1;33m.\u001b[0m\u001b[0mLGBM_GetLastError\u001b[0m\u001b[1;33m(\u001b[0m\u001b[1;33m)\u001b[0m\u001b[1;33m.\u001b[0m\u001b[0mdecode\u001b[0m\u001b[1;33m(\u001b[0m\u001b[1;34m'utf-8'\u001b[0m\u001b[1;33m)\u001b[0m\u001b[1;33m)\u001b[0m\u001b[1;33m\u001b[0m\u001b[1;33m\u001b[0m\u001b[0m\n\u001b[0m\u001b[0;32m    111\u001b[0m \u001b[1;33m\u001b[0m\u001b[0m\n\u001b[0;32m    112\u001b[0m \u001b[1;33m\u001b[0m\u001b[0m\n",
      "\u001b[1;31mLightGBMError\u001b[0m: Feature (dolphinsnose) appears more than one time."
     ]
    }
   ],
   "source": [
    "import pandas as pd  \n",
    "import numpy as np  \n",
    "import matplotlib.pyplot as plt  \n",
    "import seaborn as seabornInstance \n",
    "from sklearn.model_selection import train_test_split \n",
    "from sklearn.linear_model import LinearRegression\n",
    "from sklearn import metrics\n",
    "%matplotlib inline\n",
    "\n",
    "#Splitting the data\n",
    "\n",
    "X_train, X_test, y_train, y_test = train_test_split(X, y, test_size=0.3, random_state=0)\n",
    "\n",
    "gbm.fit(X_train, y_train,\n",
    "        eval_set=[(X_test, y_test)],\n",
    "        eval_metric='l1',\n",
    "        early_stopping_rounds=1000)"
   ]
  },
  {
   "cell_type": "code",
   "execution_count": 62,
   "metadata": {},
   "outputs": [],
   "source": [
    "y_pred = gbm.predict(X_test, num_iteration=gbm.best_iteration_)"
   ]
  },
  {
   "cell_type": "code",
   "execution_count": 63,
   "metadata": {},
   "outputs": [
    {
     "data": {
      "text/plain": [
       "array([19907.71093824, 19956.56145316, 19990.3282919 , ...,\n",
       "       20010.18406844, 20036.58410184, 19959.07335354])"
      ]
     },
     "execution_count": 63,
     "metadata": {},
     "output_type": "execute_result"
    }
   ],
   "source": [
    "y_pred"
   ]
  },
  {
   "cell_type": "code",
   "execution_count": 65,
   "metadata": {},
   "outputs": [
    {
     "name": "stdout",
     "output_type": "stream",
     "text": [
      "The rmse of prediction is: 0.55513\n"
     ]
    }
   ],
   "source": [
    "# Basic RMSE\n",
    "print('The rmse of prediction is:', round(mean_squared_log_error(y_pred, y_test) ** 0.5, 5))"
   ]
  },
  {
   "cell_type": "code",
   "execution_count": 66,
   "metadata": {},
   "outputs": [],
   "source": [
    "X = X.loc[:,~X.columns.duplicated()]"
   ]
  },
  {
   "cell_type": "code",
   "execution_count": null,
   "metadata": {},
   "outputs": [],
   "source": []
  },
  {
   "cell_type": "code",
   "execution_count": 51,
   "metadata": {},
   "outputs": [],
   "source": [
    "import re\n",
    "x_test1 = x_test1.rename(columns = lambda x:re.sub('[^A-Za-z0-9_]+', '', x))"
   ]
  },
  {
   "cell_type": "code",
   "execution_count": 54,
   "metadata": {},
   "outputs": [],
   "source": [
    "x_test1 = x_test1.loc[:,~x_test1.columns.duplicated()]"
   ]
  },
  {
   "cell_type": "code",
   "execution_count": null,
   "metadata": {},
   "outputs": [],
   "source": []
  },
  {
   "cell_type": "code",
   "execution_count": null,
   "metadata": {},
   "outputs": [],
   "source": []
  },
  {
   "cell_type": "code",
   "execution_count": 38,
   "metadata": {},
   "outputs": [],
   "source": [
    "x_test1 = pd.read_csv('dummy_creation_ss_test.csv')"
   ]
  },
  {
   "cell_type": "code",
   "execution_count": 39,
   "metadata": {},
   "outputs": [
    {
     "data": {
      "text/plain": [
       "(9000, 1155)"
      ]
     },
     "execution_count": 39,
     "metadata": {},
     "output_type": "execute_result"
    }
   ],
   "source": [
    "x_test1.shape"
   ]
  },
  {
   "cell_type": "code",
   "execution_count": 40,
   "metadata": {},
   "outputs": [],
   "source": [
    "dummies = pd.get_dummies(x_test1['Travel Year']).rename(columns=lambda x: 'Category_' + str(x))\n",
    "\n",
    "\n",
    "\n"
   ]
  },
  {
   "cell_type": "code",
   "execution_count": 41,
   "metadata": {},
   "outputs": [
    {
     "data": {
      "text/plain": [
       "(9000, 2)"
      ]
     },
     "execution_count": 41,
     "metadata": {},
     "output_type": "execute_result"
    }
   ],
   "source": [
    "dummies.shape"
   ]
  },
  {
   "cell_type": "code",
   "execution_count": 42,
   "metadata": {},
   "outputs": [],
   "source": [
    "x_test1 = pd.concat([x_test1, dummies], axis=1)\n",
    "\n"
   ]
  },
  {
   "cell_type": "code",
   "execution_count": 43,
   "metadata": {},
   "outputs": [
    {
     "data": {
      "text/plain": [
       "(9000, 1157)"
      ]
     },
     "execution_count": 43,
     "metadata": {},
     "output_type": "execute_result"
    }
   ],
   "source": [
    "x_test1.shape"
   ]
  },
  {
   "cell_type": "code",
   "execution_count": 44,
   "metadata": {},
   "outputs": [],
   "source": [
    "del x_test1['Travel Year']"
   ]
  },
  {
   "cell_type": "code",
   "execution_count": 45,
   "metadata": {},
   "outputs": [],
   "source": [
    "dummies1 = pd.get_dummies(x_test1 ['Travel Month']).rename(columns=lambda x: 'Category_' + str(x))\n",
    "dummies1.shape\n",
    "\n",
    "x_test1  = pd.concat([x_test1 , dummies1], axis=1)\n",
    "x_test1 .shape\n",
    "\n",
    "del x_test1 ['Travel Month']"
   ]
  },
  {
   "cell_type": "code",
   "execution_count": 46,
   "metadata": {},
   "outputs": [],
   "source": [
    "dummies2 = pd.get_dummies(x_test1 ['Week_filter']).rename(columns=lambda x: 'Category_' + str(x))\n",
    "dummies2.shape\n",
    "\n",
    "x_test1  = pd.concat([x_test1 , dummies2], axis=1)\n",
    "x_test1 .shape\n",
    "\n",
    "\n",
    "del x_test1 ['Week_filter']"
   ]
  },
  {
   "cell_type": "code",
   "execution_count": 47,
   "metadata": {},
   "outputs": [
    {
     "data": {
      "text/plain": [
       "(9000, 7)"
      ]
     },
     "execution_count": 47,
     "metadata": {},
     "output_type": "execute_result"
    }
   ],
   "source": [
    "dummies3 = pd.get_dummies(x_test1 ['Cancellation Rules']).rename(columns=lambda x: 'Category_' + str(x))\n",
    "dummies3.shape"
   ]
  },
  {
   "cell_type": "code",
   "execution_count": 48,
   "metadata": {},
   "outputs": [],
   "source": [
    "x_test1  = pd.concat([x_test1 , dummies3], axis=1)\n",
    "\n",
    "del x_test1 ['Cancellation Rules']"
   ]
  },
  {
   "cell_type": "code",
   "execution_count": 49,
   "metadata": {},
   "outputs": [
    {
     "data": {
      "text/plain": [
       "(9000, 5)"
      ]
     },
     "execution_count": 49,
     "metadata": {},
     "output_type": "execute_result"
    }
   ],
   "source": [
    "dummies4 = pd.get_dummies(x_test1 ['Package Type']).rename(columns=lambda x: 'Category_' + str(x))\n",
    "dummies4.shape"
   ]
  },
  {
   "cell_type": "code",
   "execution_count": 50,
   "metadata": {},
   "outputs": [],
   "source": [
    "x_test1  = pd.concat([x_test1 , dummies4], axis=1)\n",
    "\n",
    "del x_test1 ['Package Type']"
   ]
  },
  {
   "cell_type": "code",
   "execution_count": null,
   "metadata": {},
   "outputs": [],
   "source": [
    "X = X.rename(columns = lambda x:re.sub('[^A-Za-z0-9_]+', '', x))"
   ]
  },
  {
   "cell_type": "code",
   "execution_count": 55,
   "metadata": {},
   "outputs": [
    {
     "name": "stderr",
     "output_type": "stream",
     "text": [
      "C:\\Users\\Sumit\\anaconda3\\lib\\site-packages\\pandas\\core\\frame.py:4163: SettingWithCopyWarning: \n",
      "A value is trying to be set on a copy of a slice from a DataFrame\n",
      "\n",
      "See the caveats in the documentation: https://pandas.pydata.org/pandas-docs/stable/user_guide/indexing.html#returning-a-view-versus-a-copy\n",
      "  return super().drop(\n"
     ]
    }
   ],
   "source": [
    "for column in x_test1.columns:\n",
    "    if column not in X.columns:\n",
    "        x_test1.drop([column], axis=1, inplace=True)"
   ]
  },
  {
   "cell_type": "code",
   "execution_count": 56,
   "metadata": {},
   "outputs": [
    {
     "data": {
      "text/plain": [
       "(21000, 1220)"
      ]
     },
     "execution_count": 56,
     "metadata": {},
     "output_type": "execute_result"
    }
   ],
   "source": [
    "X.shape"
   ]
  },
  {
   "cell_type": "code",
   "execution_count": 57,
   "metadata": {},
   "outputs": [
    {
     "data": {
      "text/plain": [
       "(9000, 1170)"
      ]
     },
     "execution_count": 57,
     "metadata": {},
     "output_type": "execute_result"
    }
   ],
   "source": [
    "x_test1.shape"
   ]
  },
  {
   "cell_type": "code",
   "execution_count": 58,
   "metadata": {},
   "outputs": [
    {
     "name": "stderr",
     "output_type": "stream",
     "text": [
      "<ipython-input-58-1a9eceba4a3b>:3: SettingWithCopyWarning: \n",
      "A value is trying to be set on a copy of a slice from a DataFrame.\n",
      "Try using .loc[row_indexer,col_indexer] = value instead\n",
      "\n",
      "See the caveats in the documentation: https://pandas.pydata.org/pandas-docs/stable/user_guide/indexing.html#returning-a-view-versus-a-copy\n",
      "  x_test1[column] = 0\n"
     ]
    }
   ],
   "source": [
    "for column in  X.columns:\n",
    "    if column not in x_test1.columns:\n",
    "        x_test1[column] = 0"
   ]
  },
  {
   "cell_type": "code",
   "execution_count": 59,
   "metadata": {},
   "outputs": [],
   "source": [
    "x_test1=x_test1.fillna(0)"
   ]
  },
  {
   "cell_type": "code",
   "execution_count": 60,
   "metadata": {},
   "outputs": [
    {
     "data": {
      "text/plain": [
       "(9000, 1220)"
      ]
     },
     "execution_count": 60,
     "metadata": {},
     "output_type": "execute_result"
    }
   ],
   "source": [
    "x_test1.shape"
   ]
  },
  {
   "cell_type": "code",
   "execution_count": 61,
   "metadata": {},
   "outputs": [
    {
     "data": {
      "text/plain": [
       "(21000, 1220)"
      ]
     },
     "execution_count": 61,
     "metadata": {},
     "output_type": "execute_result"
    }
   ],
   "source": [
    "X.shape"
   ]
  },
  {
   "cell_type": "code",
   "execution_count": 95,
   "metadata": {},
   "outputs": [],
   "source": [
    "#X_pca_test = pca.transform(x_test1)"
   ]
  },
  {
   "cell_type": "code",
   "execution_count": 67,
   "metadata": {},
   "outputs": [],
   "source": [
    "#y_pred = rfr.predict(x_test1)\n",
    "y_pred = gbm.predict(x_test1, num_iteration=gbm.best_iteration_)"
   ]
  },
  {
   "cell_type": "code",
   "execution_count": 68,
   "metadata": {},
   "outputs": [],
   "source": [
    "submission = pd.DataFrame()"
   ]
  },
  {
   "cell_type": "code",
   "execution_count": 69,
   "metadata": {},
   "outputs": [],
   "source": [
    "submission['Per Person Price'] = y_pred "
   ]
  },
  {
   "cell_type": "code",
   "execution_count": 70,
   "metadata": {},
   "outputs": [
    {
     "data": {
      "text/plain": [
       "(9000, 1)"
      ]
     },
     "execution_count": 70,
     "metadata": {},
     "output_type": "execute_result"
    }
   ],
   "source": [
    "submission.shape"
   ]
  },
  {
   "cell_type": "code",
   "execution_count": 71,
   "metadata": {},
   "outputs": [],
   "source": [
    "submission.to_csv('submisison6.csv')"
   ]
  },
  {
   "cell_type": "code",
   "execution_count": 116,
   "metadata": {},
   "outputs": [],
   "source": [
    "submission = pd.DataFrame()\n",
    "submission['Per Person Price'] = y_pred \n",
    "submission.to_csv('submisison5.csv')"
   ]
  },
  {
   "cell_type": "code",
   "execution_count": 76,
   "metadata": {},
   "outputs": [],
   "source": [
    "from sklearn.linear_model import ElasticNet, Lasso,  BayesianRidge, LassoLarsIC\n",
    "from sklearn.ensemble import RandomForestRegressor,  GradientBoostingRegressor\n",
    "from sklearn.kernel_ridge import KernelRidge\n",
    "from sklearn.pipeline import make_pipeline\n",
    "from sklearn.preprocessing import RobustScaler\n",
    "from sklearn.base import BaseEstimator, TransformerMixin, RegressorMixin, clone\n",
    "from sklearn.model_selection import KFold, cross_val_score, train_test_split\n",
    "from sklearn.metrics import mean_squared_error\n",
    "import xgboost as xgb\n",
    "import lightgbm as lgb\n",
    "from sklearn.linear_model import SGDRegressor\n",
    "from sklearn.svm import SVR"
   ]
  },
  {
   "cell_type": "code",
   "execution_count": 77,
   "metadata": {},
   "outputs": [],
   "source": [
    "\n",
    "#Validation function\n",
    "n_folds = 5\n",
    "\n",
    "def rmsle_cv(model):\n",
    "    kf = KFold(n_folds, shuffle=True, random_state=42).get_n_splits(train.values)\n",
    "    rmse= np.sqrt(-cross_val_score(model, train.values, y_train, scoring=\"neg_mean_squared_error\", cv = kf))\n",
    "    return(rmse)"
   ]
  },
  {
   "cell_type": "code",
   "execution_count": 78,
   "metadata": {},
   "outputs": [],
   "source": [
    "#!pip install xgboost"
   ]
  },
  {
   "cell_type": "code",
   "execution_count": 79,
   "metadata": {},
   "outputs": [],
   "source": [
    "def rmsle(y, y_pred):\n",
    "    return np.sqrt(mean_squared_error(y, y_pred))"
   ]
  },
  {
   "cell_type": "code",
   "execution_count": 80,
   "metadata": {},
   "outputs": [],
   "source": [
    "GBoost = GradientBoostingRegressor(n_estimators=3000, learning_rate=0.05,\n",
    "                                   max_depth=4,\n",
    "                                   min_samples_leaf=15, min_samples_split=15, \n",
    "                                   loss='huber', random_state =5)"
   ]
  },
  {
   "cell_type": "code",
   "execution_count": 82,
   "metadata": {},
   "outputs": [],
   "source": [
    "GBoost.fit(X_train, y_train)\n",
    "gb_train_pred = GBoost.predict(X_train)"
   ]
  },
  {
   "cell_type": "code",
   "execution_count": 83,
   "metadata": {},
   "outputs": [],
   "source": [
    "gb_pred = (GBoost.predict(X_test.values))"
   ]
  },
  {
   "cell_type": "code",
   "execution_count": 84,
   "metadata": {},
   "outputs": [
    {
     "name": "stdout",
     "output_type": "stream",
     "text": [
      "5699.720557833189\n"
     ]
    }
   ],
   "source": [
    "print(rmsle(y_train, gb_train_pred))"
   ]
  },
  {
   "cell_type": "code",
   "execution_count": null,
   "metadata": {},
   "outputs": [],
   "source": []
  },
  {
   "cell_type": "code",
   "execution_count": 85,
   "metadata": {},
   "outputs": [],
   "source": [
    "model_xgb = xgb.XGBRegressor(colsample_bytree=0.52, gamma=0.03, \n",
    "                             learning_rate=0.072, max_depth=6, \n",
    "                             min_child_weight=2, n_estimators=2200,\n",
    "                             reg_alpha=0, reg_lambda=1,\n",
    "                             subsample=0.615, silent=1,\n",
    "                             random_state =7, nthread = -1)"
   ]
  },
  {
   "cell_type": "code",
   "execution_count": 86,
   "metadata": {},
   "outputs": [
    {
     "name": "stdout",
     "output_type": "stream",
     "text": [
      "[20:16:13] WARNING: C:/Users/Administrator/workspace/xgboost-win64_release_1.3.0/src/learner.cc:541: \n",
      "Parameters: { silent } might not be used.\n",
      "\n",
      "  This may not be accurate due to some parameters are only used in language bindings but\n",
      "  passed down to XGBoost core.  Or some parameters are not used but slip through this\n",
      "  verification. Please open an issue if you find above cases.\n",
      "\n",
      "\n",
      "3701.380053640707\n"
     ]
    }
   ],
   "source": [
    "model_xgb.fit(X_train, y_train)\n",
    "xgb_train_pred = model_xgb.predict(X_train)\n",
    "xgb_pred = model_xgb.predict(X_test)\n",
    "print(rmsle(y_train, xgb_train_pred))"
   ]
  },
  {
   "cell_type": "code",
   "execution_count": 87,
   "metadata": {},
   "outputs": [],
   "source": [
    "price_XG_pred = pd.DataFrame(xgb_pred)"
   ]
  },
  {
   "cell_type": "code",
   "execution_count": 88,
   "metadata": {},
   "outputs": [],
   "source": [
    "\n",
    "model_lgb = lgb.LGBMRegressor(objective='regression',num_leaves=35,\n",
    "                              learning_rate=0.052, n_estimators=2800,feature_fraction = 0.75,\n",
    "                              feature_fraction_seed=9,min_data_in_leaf =15\n",
    "                                                         \n",
    "                              )"
   ]
  },
  {
   "cell_type": "code",
   "execution_count": 90,
   "metadata": {},
   "outputs": [],
   "source": [
    "\n",
    "model_lgb.fit(X_train, y_train)\n",
    "lgb_train_pred = model_lgb.predict(X_train)"
   ]
  },
  {
   "cell_type": "code",
   "execution_count": 91,
   "metadata": {},
   "outputs": [
    {
     "name": "stdout",
     "output_type": "stream",
     "text": [
      "3683.2447127659266\n"
     ]
    }
   ],
   "source": [
    "print(rmsle(y_train, lgb_train_pred))"
   ]
  },
  {
   "cell_type": "code",
   "execution_count": 92,
   "metadata": {},
   "outputs": [],
   "source": [
    "lgb_pred = model_lgb.predict(X_test.values)"
   ]
  },
  {
   "cell_type": "code",
   "execution_count": 93,
   "metadata": {},
   "outputs": [],
   "source": [
    "ens_train =  xgb_train_pred*0.35 + lgb_train_pred*0.35 + gb_train_pred*0.3"
   ]
  },
  {
   "cell_type": "code",
   "execution_count": 94,
   "metadata": {},
   "outputs": [
    {
     "name": "stdout",
     "output_type": "stream",
     "text": [
      "RMSLE score on train data:\n",
      "3959.568314360867\n"
     ]
    }
   ],
   "source": [
    "'''RMSE on the entire Train data when averaging'''\n",
    "\n",
    "print('RMSLE score on train data:')\n",
    "print(rmsle(y_train,xgb_train_pred*0.45 + lgb_train_pred*0.3 + gb_train_pred*0.25 ))"
   ]
  },
  {
   "cell_type": "code",
   "execution_count": null,
   "metadata": {},
   "outputs": [],
   "source": []
  },
  {
   "cell_type": "code",
   "execution_count": null,
   "metadata": {},
   "outputs": [],
   "source": []
  },
  {
   "cell_type": "code",
   "execution_count": null,
   "metadata": {},
   "outputs": [],
   "source": []
  },
  {
   "cell_type": "code",
   "execution_count": null,
   "metadata": {},
   "outputs": [],
   "source": []
  },
  {
   "cell_type": "code",
   "execution_count": null,
   "metadata": {},
   "outputs": [],
   "source": []
  },
  {
   "cell_type": "code",
   "execution_count": 34,
   "metadata": {},
   "outputs": [],
   "source": [
    "import numpy as np \n",
    "import pandas as pd\n",
    "import math\n",
    "from sklearn.preprocessing import StandardScaler\n",
    "from sklearn.model_selection import train_test_split, GridSearchCV\n",
    "from sklearn.linear_model import LinearRegression, SGDRegressor\n",
    "from sklearn.svm import SVR\n",
    "\n",
    "from sklearn.metrics import mean_squared_error\n",
    "\n",
    "import os"
   ]
  },
  {
   "cell_type": "code",
   "execution_count": 35,
   "metadata": {},
   "outputs": [],
   "source": [
    "import math"
   ]
  },
  {
   "cell_type": "code",
   "execution_count": 36,
   "metadata": {},
   "outputs": [
    {
     "name": "stdout",
     "output_type": "stream",
     "text": [
      "Linear Regression (Normal Equations) Train RMSE:  6087.553340406281\n",
      "Linear Regression (Normal Equations) Test RMSE:  5068393569439.296\n"
     ]
    }
   ],
   "source": [
    "# Linear Regression (Normal Equations)\n",
    "lin_reg = LinearRegression().fit(X_train, y_train)\n",
    "y_pred = lin_reg.predict(X_train)\n",
    "print(\"Linear Regression (Normal Equations) Train RMSE: \", math.sqrt(mean_squared_error(y_train, y_pred)))\n",
    "y_pred = lin_reg.predict(X_test)\n",
    "print(\"Linear Regression (Normal Equations) Test RMSE: \", math.sqrt(mean_squared_error(y_test, y_pred)))"
   ]
  },
  {
   "cell_type": "code",
   "execution_count": 37,
   "metadata": {},
   "outputs": [],
   "source": [
    "# Feature scaling numerical data\n",
    "scaler = StandardScaler().fit(X_train)\n",
    "X_train = scaler.transform(X_train)\n",
    "X_test = scaler.transform(X_test)"
   ]
  },
  {
   "cell_type": "code",
   "execution_count": 38,
   "metadata": {},
   "outputs": [
    {
     "data": {
      "text/plain": [
       "GridSearchCV(estimator=SGDRegressor(random_state=42),\n",
       "             param_grid={'alpha': [1, 0.3, 0.1, 0.03, 0.01, 0.003, 0.001,\n",
       "                                   0.0003],\n",
       "                         'eta0': [0.03, 0.01, 0.003, 0.001, 0.0003],\n",
       "                         'penalty': ['l1', 'l2', 'elasticnet']})"
      ]
     },
     "execution_count": 38,
     "metadata": {},
     "output_type": "execute_result"
    }
   ],
   "source": [
    "# Stochastic Gradient Descent Regression\n",
    "# Using GridSearchCV to find out the best hyperparameters\n",
    "\n",
    "parameters = {'eta0': [0.03, 0.01, 0.003, 0.001, 0.0003],\n",
    "             'penalty': ['l1', 'l2', 'elasticnet'],\n",
    "             'alpha': [1, 0.3, 0.1, 0.03, 0.01, 0.003, 0.001, 0.0003]}\n",
    "sgd_reg = SGDRegressor(random_state=42)\n",
    "\n",
    "clf = GridSearchCV(sgd_reg, parameters)\n",
    "clf.fit(X_train, y_train.ravel())"
   ]
  },
  {
   "cell_type": "code",
   "execution_count": 39,
   "metadata": {},
   "outputs": [
    {
     "name": "stdout",
     "output_type": "stream",
     "text": [
      "SGD Regression Train RMSE:  6201.8400827637615\n",
      "SGD Regression Test RMSE:  7077.361272053416\n",
      "Best Learning Rate:  0.01\n",
      "Best Penalty:  l2\n",
      "Best Regularization Coefficient:  0.0001\n"
     ]
    }
   ],
   "source": [
    "y_pred = clf.predict(X_train)\n",
    "print(\"SGD Regression Train RMSE: \", math.sqrt(mean_squared_error(y_train, y_pred)))\n",
    "y_pred = clf.predict(X_test)\n",
    "print(\"SGD Regression Test RMSE: \", math.sqrt(mean_squared_error(y_test, y_pred)))\n",
    "parameters = clf.get_params()\n",
    "print('Best Learning Rate: ', parameters['estimator__eta0'])\n",
    "print('Best Penalty: ', parameters['estimator__penalty'])\n",
    "print('Best Regularization Coefficient: ', parameters['estimator__alpha'])"
   ]
  },
  {
   "cell_type": "code",
   "execution_count": null,
   "metadata": {},
   "outputs": [],
   "source": []
  },
  {
   "cell_type": "code",
   "execution_count": 66,
   "metadata": {},
   "outputs": [
    {
     "name": "stdout",
     "output_type": "stream",
     "text": [
      "Support Vector Regression, Linear Kernel Train RMSE:  7142.1310401765\n",
      "Support Vector Regression, Linear Kernel Test RMSE:  7804.351427671343\n"
     ]
    }
   ],
   "source": [
    "# Support Vector Regression\n",
    "\n",
    "svr = SVR(kernel='linear')\n",
    "svr.fit(X_train, y_train.ravel())\n",
    "\n",
    "y_pred = svr.predict(X_train)\n",
    "print(\"Support Vector Regression, Linear Kernel Train RMSE: \", math.sqrt(mean_squared_error(y_train, y_pred)))\n",
    "y_pred = svr.predict(X_test)\n",
    "print(\"Support Vector Regression, Linear Kernel Test RMSE: \", math.sqrt(mean_squared_error(y_test, y_pred)))"
   ]
  },
  {
   "cell_type": "code",
   "execution_count": null,
   "metadata": {},
   "outputs": [],
   "source": []
  },
  {
   "cell_type": "code",
   "execution_count": 41,
   "metadata": {},
   "outputs": [
    {
     "name": "stdout",
     "output_type": "stream",
     "text": [
      "Support Vector Regression, RBF Kernel Train RMSE:  11638.601315875978\n",
      "Support Vector Regression, RBF Kernel Test RMSE:  12503.457925353508\n"
     ]
    }
   ],
   "source": [
    "svr = SVR(kernel='rbf')\n",
    "svr.fit(X_train, y_train.ravel())\n",
    "\n",
    "y_pred = svr.predict(X_train)\n",
    "print(\"Support Vector Regression, RBF Kernel Train RMSE: \", math.sqrt(mean_squared_error(y_train, y_pred)))\n",
    "y_pred = svr.predict(X_test)\n",
    "print(\"Support Vector Regression, RBF Kernel Test RMSE: \", math.sqrt(mean_squared_error(y_test, y_pred)))"
   ]
  },
  {
   "cell_type": "code",
   "execution_count": 64,
   "metadata": {},
   "outputs": [],
   "source": [
    "y_pred = svr.predict(x_test1)"
   ]
  },
  {
   "cell_type": "code",
   "execution_count": null,
   "metadata": {},
   "outputs": [],
   "source": []
  },
  {
   "cell_type": "code",
   "execution_count": 42,
   "metadata": {},
   "outputs": [
    {
     "name": "stdout",
     "output_type": "stream",
     "text": [
      "Support Vector Regression, Polynomial Kernel Train RMSE:  11500.601253231787\n"
     ]
    },
    {
     "ename": "KeyboardInterrupt",
     "evalue": "",
     "output_type": "error",
     "traceback": [
      "\u001b[1;31m---------------------------------------------------------------------------\u001b[0m",
      "\u001b[1;31mKeyboardInterrupt\u001b[0m                         Traceback (most recent call last)",
      "\u001b[1;32m<ipython-input-42-a5b02fdcc5c0>\u001b[0m in \u001b[0;36m<module>\u001b[1;34m\u001b[0m\n\u001b[0;32m      4\u001b[0m \u001b[0my_pred\u001b[0m \u001b[1;33m=\u001b[0m \u001b[0msvr\u001b[0m\u001b[1;33m.\u001b[0m\u001b[0mpredict\u001b[0m\u001b[1;33m(\u001b[0m\u001b[0mX_train\u001b[0m\u001b[1;33m)\u001b[0m\u001b[1;33m\u001b[0m\u001b[1;33m\u001b[0m\u001b[0m\n\u001b[0;32m      5\u001b[0m \u001b[0mprint\u001b[0m\u001b[1;33m(\u001b[0m\u001b[1;34m\"Support Vector Regression, Polynomial Kernel Train RMSE: \"\u001b[0m\u001b[1;33m,\u001b[0m \u001b[0mmath\u001b[0m\u001b[1;33m.\u001b[0m\u001b[0msqrt\u001b[0m\u001b[1;33m(\u001b[0m\u001b[0mmean_squared_error\u001b[0m\u001b[1;33m(\u001b[0m\u001b[0my_train\u001b[0m\u001b[1;33m,\u001b[0m \u001b[0my_pred\u001b[0m\u001b[1;33m)\u001b[0m\u001b[1;33m)\u001b[0m\u001b[1;33m)\u001b[0m\u001b[1;33m\u001b[0m\u001b[1;33m\u001b[0m\u001b[0m\n\u001b[1;32m----> 6\u001b[1;33m \u001b[0my_pred\u001b[0m \u001b[1;33m=\u001b[0m \u001b[0msvr\u001b[0m\u001b[1;33m.\u001b[0m\u001b[0mpredict\u001b[0m\u001b[1;33m(\u001b[0m\u001b[0mX_test\u001b[0m\u001b[1;33m)\u001b[0m\u001b[1;33m\u001b[0m\u001b[1;33m\u001b[0m\u001b[0m\n\u001b[0m\u001b[0;32m      7\u001b[0m \u001b[0mprint\u001b[0m\u001b[1;33m(\u001b[0m\u001b[1;34m\"Support Vector Regression, Polynomial Kernel Test RMSE: \"\u001b[0m\u001b[1;33m,\u001b[0m \u001b[0mmath\u001b[0m\u001b[1;33m.\u001b[0m\u001b[0msqrt\u001b[0m\u001b[1;33m(\u001b[0m\u001b[0mmean_squared_error\u001b[0m\u001b[1;33m(\u001b[0m\u001b[0my_test\u001b[0m\u001b[1;33m,\u001b[0m \u001b[0my_pred\u001b[0m\u001b[1;33m)\u001b[0m\u001b[1;33m)\u001b[0m\u001b[1;33m)\u001b[0m\u001b[1;33m\u001b[0m\u001b[1;33m\u001b[0m\u001b[0m\n",
      "\u001b[1;32m~\\anaconda3\\lib\\site-packages\\sklearn\\svm\\_base.py\u001b[0m in \u001b[0;36mpredict\u001b[1;34m(self, X)\u001b[0m\n\u001b[0;32m    333\u001b[0m         \u001b[0mX\u001b[0m \u001b[1;33m=\u001b[0m \u001b[0mself\u001b[0m\u001b[1;33m.\u001b[0m\u001b[0m_validate_for_predict\u001b[0m\u001b[1;33m(\u001b[0m\u001b[0mX\u001b[0m\u001b[1;33m)\u001b[0m\u001b[1;33m\u001b[0m\u001b[1;33m\u001b[0m\u001b[0m\n\u001b[0;32m    334\u001b[0m         \u001b[0mpredict\u001b[0m \u001b[1;33m=\u001b[0m \u001b[0mself\u001b[0m\u001b[1;33m.\u001b[0m\u001b[0m_sparse_predict\u001b[0m \u001b[1;32mif\u001b[0m \u001b[0mself\u001b[0m\u001b[1;33m.\u001b[0m\u001b[0m_sparse\u001b[0m \u001b[1;32melse\u001b[0m \u001b[0mself\u001b[0m\u001b[1;33m.\u001b[0m\u001b[0m_dense_predict\u001b[0m\u001b[1;33m\u001b[0m\u001b[1;33m\u001b[0m\u001b[0m\n\u001b[1;32m--> 335\u001b[1;33m         \u001b[1;32mreturn\u001b[0m \u001b[0mpredict\u001b[0m\u001b[1;33m(\u001b[0m\u001b[0mX\u001b[0m\u001b[1;33m)\u001b[0m\u001b[1;33m\u001b[0m\u001b[1;33m\u001b[0m\u001b[0m\n\u001b[0m\u001b[0;32m    336\u001b[0m \u001b[1;33m\u001b[0m\u001b[0m\n\u001b[0;32m    337\u001b[0m     \u001b[1;32mdef\u001b[0m \u001b[0m_dense_predict\u001b[0m\u001b[1;33m(\u001b[0m\u001b[0mself\u001b[0m\u001b[1;33m,\u001b[0m \u001b[0mX\u001b[0m\u001b[1;33m)\u001b[0m\u001b[1;33m:\u001b[0m\u001b[1;33m\u001b[0m\u001b[1;33m\u001b[0m\u001b[0m\n",
      "\u001b[1;32m~\\anaconda3\\lib\\site-packages\\sklearn\\svm\\_base.py\u001b[0m in \u001b[0;36m_dense_predict\u001b[1;34m(self, X)\u001b[0m\n\u001b[0;32m    350\u001b[0m         \u001b[0msvm_type\u001b[0m \u001b[1;33m=\u001b[0m \u001b[0mLIBSVM_IMPL\u001b[0m\u001b[1;33m.\u001b[0m\u001b[0mindex\u001b[0m\u001b[1;33m(\u001b[0m\u001b[0mself\u001b[0m\u001b[1;33m.\u001b[0m\u001b[0m_impl\u001b[0m\u001b[1;33m)\u001b[0m\u001b[1;33m\u001b[0m\u001b[1;33m\u001b[0m\u001b[0m\n\u001b[0;32m    351\u001b[0m \u001b[1;33m\u001b[0m\u001b[0m\n\u001b[1;32m--> 352\u001b[1;33m         return libsvm.predict(\n\u001b[0m\u001b[0;32m    353\u001b[0m             \u001b[0mX\u001b[0m\u001b[1;33m,\u001b[0m \u001b[0mself\u001b[0m\u001b[1;33m.\u001b[0m\u001b[0msupport_\u001b[0m\u001b[1;33m,\u001b[0m \u001b[0mself\u001b[0m\u001b[1;33m.\u001b[0m\u001b[0msupport_vectors_\u001b[0m\u001b[1;33m,\u001b[0m \u001b[0mself\u001b[0m\u001b[1;33m.\u001b[0m\u001b[0m_n_support\u001b[0m\u001b[1;33m,\u001b[0m\u001b[1;33m\u001b[0m\u001b[1;33m\u001b[0m\u001b[0m\n\u001b[0;32m    354\u001b[0m             \u001b[0mself\u001b[0m\u001b[1;33m.\u001b[0m\u001b[0m_dual_coef_\u001b[0m\u001b[1;33m,\u001b[0m \u001b[0mself\u001b[0m\u001b[1;33m.\u001b[0m\u001b[0m_intercept_\u001b[0m\u001b[1;33m,\u001b[0m\u001b[1;33m\u001b[0m\u001b[1;33m\u001b[0m\u001b[0m\n",
      "\u001b[1;31mKeyboardInterrupt\u001b[0m: "
     ]
    }
   ],
   "source": [
    "svr = SVR(kernel='poly')\n",
    "svr.fit(X_train, y_train.ravel())\n",
    "\n",
    "y_pred = svr.predict(X_train)\n",
    "print(\"Support Vector Regression, Polynomial Kernel Train RMSE: \", math.sqrt(mean_squared_error(y_train, y_pred)))\n",
    "y_pred = svr.predict(X_test)\n",
    "print(\"Support Vector Regression, Polynomial Kernel Test RMSE: \", math.sqrt(mean_squared_error(y_test, y_pred)))"
   ]
  },
  {
   "cell_type": "code",
   "execution_count": 43,
   "metadata": {},
   "outputs": [
    {
     "ename": "KeyboardInterrupt",
     "evalue": "",
     "output_type": "error",
     "traceback": [
      "\u001b[1;31m---------------------------------------------------------------------------\u001b[0m",
      "\u001b[1;31mKeyboardInterrupt\u001b[0m                         Traceback (most recent call last)",
      "\u001b[1;32m<ipython-input-43-7f4b265550fa>\u001b[0m in \u001b[0;36m<module>\u001b[1;34m\u001b[0m\n\u001b[1;32m----> 1\u001b[1;33m \u001b[0my_pred\u001b[0m \u001b[1;33m=\u001b[0m \u001b[0msvr\u001b[0m\u001b[1;33m.\u001b[0m\u001b[0mpredict\u001b[0m\u001b[1;33m(\u001b[0m\u001b[0mX_test\u001b[0m\u001b[1;33m)\u001b[0m\u001b[1;33m\u001b[0m\u001b[1;33m\u001b[0m\u001b[0m\n\u001b[0m\u001b[0;32m      2\u001b[0m \u001b[0mprint\u001b[0m\u001b[1;33m(\u001b[0m\u001b[1;34m\"Support Vector Regression, Polynomial Kernel Test RMSE: \"\u001b[0m\u001b[1;33m,\u001b[0m \u001b[0mmath\u001b[0m\u001b[1;33m.\u001b[0m\u001b[0msqrt\u001b[0m\u001b[1;33m(\u001b[0m\u001b[0mmean_squared_error\u001b[0m\u001b[1;33m(\u001b[0m\u001b[0my_test\u001b[0m\u001b[1;33m,\u001b[0m \u001b[0my_pred\u001b[0m\u001b[1;33m)\u001b[0m\u001b[1;33m)\u001b[0m\u001b[1;33m)\u001b[0m\u001b[1;33m\u001b[0m\u001b[1;33m\u001b[0m\u001b[0m\n",
      "\u001b[1;32m~\\anaconda3\\lib\\site-packages\\sklearn\\svm\\_base.py\u001b[0m in \u001b[0;36mpredict\u001b[1;34m(self, X)\u001b[0m\n\u001b[0;32m    333\u001b[0m         \u001b[0mX\u001b[0m \u001b[1;33m=\u001b[0m \u001b[0mself\u001b[0m\u001b[1;33m.\u001b[0m\u001b[0m_validate_for_predict\u001b[0m\u001b[1;33m(\u001b[0m\u001b[0mX\u001b[0m\u001b[1;33m)\u001b[0m\u001b[1;33m\u001b[0m\u001b[1;33m\u001b[0m\u001b[0m\n\u001b[0;32m    334\u001b[0m         \u001b[0mpredict\u001b[0m \u001b[1;33m=\u001b[0m \u001b[0mself\u001b[0m\u001b[1;33m.\u001b[0m\u001b[0m_sparse_predict\u001b[0m \u001b[1;32mif\u001b[0m \u001b[0mself\u001b[0m\u001b[1;33m.\u001b[0m\u001b[0m_sparse\u001b[0m \u001b[1;32melse\u001b[0m \u001b[0mself\u001b[0m\u001b[1;33m.\u001b[0m\u001b[0m_dense_predict\u001b[0m\u001b[1;33m\u001b[0m\u001b[1;33m\u001b[0m\u001b[0m\n\u001b[1;32m--> 335\u001b[1;33m         \u001b[1;32mreturn\u001b[0m \u001b[0mpredict\u001b[0m\u001b[1;33m(\u001b[0m\u001b[0mX\u001b[0m\u001b[1;33m)\u001b[0m\u001b[1;33m\u001b[0m\u001b[1;33m\u001b[0m\u001b[0m\n\u001b[0m\u001b[0;32m    336\u001b[0m \u001b[1;33m\u001b[0m\u001b[0m\n\u001b[0;32m    337\u001b[0m     \u001b[1;32mdef\u001b[0m \u001b[0m_dense_predict\u001b[0m\u001b[1;33m(\u001b[0m\u001b[0mself\u001b[0m\u001b[1;33m,\u001b[0m \u001b[0mX\u001b[0m\u001b[1;33m)\u001b[0m\u001b[1;33m:\u001b[0m\u001b[1;33m\u001b[0m\u001b[1;33m\u001b[0m\u001b[0m\n",
      "\u001b[1;32m~\\anaconda3\\lib\\site-packages\\sklearn\\svm\\_base.py\u001b[0m in \u001b[0;36m_dense_predict\u001b[1;34m(self, X)\u001b[0m\n\u001b[0;32m    350\u001b[0m         \u001b[0msvm_type\u001b[0m \u001b[1;33m=\u001b[0m \u001b[0mLIBSVM_IMPL\u001b[0m\u001b[1;33m.\u001b[0m\u001b[0mindex\u001b[0m\u001b[1;33m(\u001b[0m\u001b[0mself\u001b[0m\u001b[1;33m.\u001b[0m\u001b[0m_impl\u001b[0m\u001b[1;33m)\u001b[0m\u001b[1;33m\u001b[0m\u001b[1;33m\u001b[0m\u001b[0m\n\u001b[0;32m    351\u001b[0m \u001b[1;33m\u001b[0m\u001b[0m\n\u001b[1;32m--> 352\u001b[1;33m         return libsvm.predict(\n\u001b[0m\u001b[0;32m    353\u001b[0m             \u001b[0mX\u001b[0m\u001b[1;33m,\u001b[0m \u001b[0mself\u001b[0m\u001b[1;33m.\u001b[0m\u001b[0msupport_\u001b[0m\u001b[1;33m,\u001b[0m \u001b[0mself\u001b[0m\u001b[1;33m.\u001b[0m\u001b[0msupport_vectors_\u001b[0m\u001b[1;33m,\u001b[0m \u001b[0mself\u001b[0m\u001b[1;33m.\u001b[0m\u001b[0m_n_support\u001b[0m\u001b[1;33m,\u001b[0m\u001b[1;33m\u001b[0m\u001b[1;33m\u001b[0m\u001b[0m\n\u001b[0;32m    354\u001b[0m             \u001b[0mself\u001b[0m\u001b[1;33m.\u001b[0m\u001b[0m_dual_coef_\u001b[0m\u001b[1;33m,\u001b[0m \u001b[0mself\u001b[0m\u001b[1;33m.\u001b[0m\u001b[0m_intercept_\u001b[0m\u001b[1;33m,\u001b[0m\u001b[1;33m\u001b[0m\u001b[1;33m\u001b[0m\u001b[0m\n",
      "\u001b[1;31mKeyboardInterrupt\u001b[0m: "
     ]
    }
   ],
   "source": [
    "y_pred = svr.predict(X_test)\n",
    "print(\"Support Vector Regression, Polynomial Kernel Test RMSE: \", math.sqrt(mean_squared_error(y_test, y_pred)))"
   ]
  },
  {
   "cell_type": "code",
   "execution_count": null,
   "metadata": {},
   "outputs": [],
   "source": [
    "# Support Vector Regression\n",
    "# Using GridSearchCV to find out the best hyperparameters\n",
    "\n",
    "parameters = {'C': [1, 3, 10, 30, 100, 300],\n",
    "             'gamma': [0.001, 0.003, 0.01, 0.03, 0.1, 0.3, 1, 3]}\n",
    "\n",
    "svr = SVR(kernel='rbf')\n",
    "\n",
    "clf = GridSearchCV(svr, parameters)\n",
    "clf.fit(X_train, y_train.ravel())"
   ]
  },
  {
   "cell_type": "code",
   "execution_count": null,
   "metadata": {},
   "outputs": [],
   "source": []
  },
  {
   "cell_type": "code",
   "execution_count": null,
   "metadata": {},
   "outputs": [],
   "source": [
    "y_pred = clf.predict(X_train)\n",
    "print(\"Support Vector Regression Train RMSE: \", math.sqrt(mean_squared_error(y_train, y_pred)))\n",
    "y_pred = clf.predict(X_test)\n",
    "print(\"Support Vector Regression Test RMSE: \", math.sqrt(mean_squared_error(y_test, y_pred)))\n",
    "parameters = clf.get_params()\n",
    "print('Best Regularization Coefficient: ', parameters['estimator__C'])\n",
    "print('Best Gamma: ', parameters['estimator__gamma'])"
   ]
  },
  {
   "cell_type": "code",
   "execution_count": null,
   "metadata": {},
   "outputs": [],
   "source": []
  },
  {
   "cell_type": "code",
   "execution_count": 52,
   "metadata": {},
   "outputs": [],
   "source": [
    "import requests\n",
    "import urllib.parse"
   ]
  },
  {
   "cell_type": "code",
   "execution_count": 64,
   "metadata": {},
   "outputs": [
    {
     "name": "stdout",
     "output_type": "stream",
     "text": [
      "13.0836939\n",
      "80.270186\n"
     ]
    }
   ],
   "source": [
    "import requests\n",
    "import urllib.parse\n",
    "\n",
    "address = 'Chennai'\n",
    "url = 'https://nominatim.openstreetmap.org/search/' + urllib.parse.quote(address) +'?format=json'\n",
    "\n",
    "response = requests.get(url).json()\n",
    "print(response[0][\"lat\"])\n",
    "print(response[0][\"lon\"])"
   ]
  },
  {
   "cell_type": "code",
   "execution_count": 129,
   "metadata": {},
   "outputs": [],
   "source": [
    "import time\n",
    "def get_lat_long(Location):\n",
    "    start = time.time()\n",
    "    \n",
    "    url = 'https://nominatim.openstreetmap.org/search/' + urllib.parse.quote(Location) +'?format=json'\n",
    "    response = requests.get(url).json()\n",
    "    x = (response[0][\"lat\"])\n",
    "    y = (response[0][\"lon\"])\n",
    "    \n",
    "    elapsed_time_lc=(time.time()-start)\n",
    "    \n",
    "    print(elapsed_time_lc)\n",
    "    \n",
    "#     print(x)\n",
    "#     print(y)\n",
    "    \n",
    "    return x,y\n",
    "    \n",
    "    \n",
    "    "
   ]
  },
  {
   "cell_type": "code",
   "execution_count": 136,
   "metadata": {},
   "outputs": [
    {
     "name": "stdout",
     "output_type": "stream",
     "text": [
      "0.5058658123016357\n"
     ]
    }
   ],
   "source": [
    "x, y= get_lat_long(Location=\"Chikmagalur\")"
   ]
  },
  {
   "cell_type": "code",
   "execution_count": 105,
   "metadata": {},
   "outputs": [],
   "source": [
    "data = data.head(20)"
   ]
  },
  {
   "cell_type": "code",
   "execution_count": 106,
   "metadata": {},
   "outputs": [
    {
     "name": "stdout",
     "output_type": "stream",
     "text": [
      "28.6517178\n",
      "77.2219388\n"
     ]
    }
   ],
   "source": [
    "print(x)\n",
    "print(y)"
   ]
  },
  {
   "cell_type": "code",
   "execution_count": 102,
   "metadata": {},
   "outputs": [
    {
     "data": {
      "text/html": [
       "<div>\n",
       "<style scoped>\n",
       "    .dataframe tbody tr th:only-of-type {\n",
       "        vertical-align: middle;\n",
       "    }\n",
       "\n",
       "    .dataframe tbody tr th {\n",
       "        vertical-align: top;\n",
       "    }\n",
       "\n",
       "    .dataframe thead th {\n",
       "        text-align: right;\n",
       "    }\n",
       "</style>\n",
       "<table border=\"1\" class=\"dataframe\">\n",
       "  <thead>\n",
       "    <tr style=\"text-align: right;\">\n",
       "      <th></th>\n",
       "      <th>Uniq Id</th>\n",
       "      <th>Package Name</th>\n",
       "      <th>Package Type</th>\n",
       "      <th>Destination</th>\n",
       "      <th>Itinerary</th>\n",
       "      <th>Places Covered</th>\n",
       "      <th>Travel Date</th>\n",
       "      <th>Hotel Details</th>\n",
       "      <th>Start City</th>\n",
       "      <th>Airline</th>\n",
       "      <th>Flight Stops</th>\n",
       "      <th>Meals</th>\n",
       "      <th>Sightseeing Places Covered</th>\n",
       "      <th>Cancellation Rules</th>\n",
       "      <th>Per Person Price</th>\n",
       "      <th>Star_Destination</th>\n",
       "      <th>Start_Destination</th>\n",
       "      <th>Start_City_Lon_Lat</th>\n",
       "    </tr>\n",
       "  </thead>\n",
       "  <tbody>\n",
       "    <tr>\n",
       "      <th>0</th>\n",
       "      <td>e788ab76d9d8cf1e6ed2f139645ca5d1</td>\n",
       "      <td>Best of Shimla and Manali Holiday from Delhi</td>\n",
       "      <td>Standard</td>\n",
       "      <td>New Delhi|Shimla|Manali|Chandigarh</td>\n",
       "      <td>1N New Delhi . 2N Shimla . 2N Manali . 1N Chan...</td>\n",
       "      <td>New Delhi|Shimla|Manali|Chandigarh</td>\n",
       "      <td>30-07-2021</td>\n",
       "      <td>Not Available</td>\n",
       "      <td>Mumbai</td>\n",
       "      <td>Not Available</td>\n",
       "      <td>2</td>\n",
       "      <td>3</td>\n",
       "      <td>Not Available</td>\n",
       "      <td>Not Available</td>\n",
       "      <td>11509.0</td>\n",
       "      <td>New Delhi</td>\n",
       "      <td>New Delhi</td>\n",
       "      <td>(13.0836939, 80.270186)</td>\n",
       "    </tr>\n",
       "    <tr>\n",
       "      <th>1</th>\n",
       "      <td>178f892630ce3e335a5a41d5d83937fd</td>\n",
       "      <td>Kashmir Valley vacation</td>\n",
       "      <td>Premium</td>\n",
       "      <td>Srinagar|Pahalgam|Srinagar</td>\n",
       "      <td>1N Srinagar . 2N Pahalgam . 1N Srinagar</td>\n",
       "      <td>Srinagar|Pahalgam|Srinagar</td>\n",
       "      <td>08-12-2021</td>\n",
       "      <td>The Orchard Retreat &amp; Spa:4.6|WelcomHotel Pine...</td>\n",
       "      <td>New Delhi</td>\n",
       "      <td>IndiGo|IndiGo</td>\n",
       "      <td>0</td>\n",
       "      <td>5</td>\n",
       "      <td>Dal Lake | Avantipura Ruins | Mughal Gardens ...</td>\n",
       "      <td>Cancellation any time after making the 1st pay...</td>\n",
       "      <td>22485.5</td>\n",
       "      <td>New Delhi</td>\n",
       "      <td>Srinagar</td>\n",
       "      <td>(13.0836939, 80.270186)</td>\n",
       "    </tr>\n",
       "    <tr>\n",
       "      <th>2</th>\n",
       "      <td>f060f2954840503cc2fdaf495357b7df</td>\n",
       "      <td>Might of Mewar- Udaipur and Chittorgarh</td>\n",
       "      <td>Luxury</td>\n",
       "      <td>Udaipur|Chittorgarh</td>\n",
       "      <td>2N Udaipur . 1N Chittorgarh</td>\n",
       "      <td>Udaipur|Chittorgarh</td>\n",
       "      <td>26-04-2021</td>\n",
       "      <td>The Ananta:4.4|juSTa Lake Nahargarh Palace:4</td>\n",
       "      <td>New Delhi</td>\n",
       "      <td>IndiGo</td>\n",
       "      <td>0</td>\n",
       "      <td>4</td>\n",
       "      <td>Lake Pichola | Jag Mandir Palace | Saheliyon ...</td>\n",
       "      <td>Cancellation any time after making the 1st pay...</td>\n",
       "      <td>12421.5</td>\n",
       "      <td>New Delhi</td>\n",
       "      <td>Udaipur</td>\n",
       "      <td>(13.0836939, 80.270186)</td>\n",
       "    </tr>\n",
       "    <tr>\n",
       "      <th>3</th>\n",
       "      <td>32a19a6c171e67448f2346da46c619dc</td>\n",
       "      <td>Colorful Kerala ( Romantic Getaway )</td>\n",
       "      <td>Premium</td>\n",
       "      <td>Munnar|Kumarakom|Allepey|Kovalam and Poovar</td>\n",
       "      <td>2N Munnar . 1N Kumarakom . 1N Allepey . 2N Kov...</td>\n",
       "      <td>Munnar|Kumarakom|Allepey|Kovalam and Poovar</td>\n",
       "      <td>27-08-2021</td>\n",
       "      <td>Elixir Hills Suites Resort &amp; Spa-MMT Holidays ...</td>\n",
       "      <td>New Delhi</td>\n",
       "      <td>IndiGo</td>\n",
       "      <td>0</td>\n",
       "      <td>5</td>\n",
       "      <td>Mattupetty Dam | Echo Point | Tata Tea Museum...</td>\n",
       "      <td>Cancellation any time after making the 1st pay...</td>\n",
       "      <td>35967.0</td>\n",
       "      <td>New Delhi</td>\n",
       "      <td>Munnar</td>\n",
       "      <td>(13.0836939, 80.270186)</td>\n",
       "    </tr>\n",
       "    <tr>\n",
       "      <th>4</th>\n",
       "      <td>107b068aa0ca03bc6248966f594d105f</td>\n",
       "      <td>A Week In Bangkok &amp; Pattaya</td>\n",
       "      <td>Premium</td>\n",
       "      <td>Pattaya|Bangkok</td>\n",
       "      <td>4N Pattaya . 3N Bangkok</td>\n",
       "      <td>Pattaya|Bangkok</td>\n",
       "      <td>12-12-2021</td>\n",
       "      <td>Dusit Thani Pattaya - MMT Special:4.5|Amari Wa...</td>\n",
       "      <td>New Delhi</td>\n",
       "      <td>Spicejet|Go Air</td>\n",
       "      <td>0</td>\n",
       "      <td>5</td>\n",
       "      <td>Coral Island Tour with Indian Lunch, Join Spe...</td>\n",
       "      <td>Cancellation any time after making the 1st pay...</td>\n",
       "      <td>25584.0</td>\n",
       "      <td>New Delhi</td>\n",
       "      <td>Pattaya</td>\n",
       "      <td>(13.0836939, 80.270186)</td>\n",
       "    </tr>\n",
       "    <tr>\n",
       "      <th>5</th>\n",
       "      <td>3bb074528941b3a6823371f77b07fb0f</td>\n",
       "      <td>Cochin Trip with Visit to Guruvayoor Temple</td>\n",
       "      <td>Deluxe</td>\n",
       "      <td>Cochin</td>\n",
       "      <td>2N Cochin</td>\n",
       "      <td>Cochin</td>\n",
       "      <td>30-09-2021</td>\n",
       "      <td>Not Available</td>\n",
       "      <td>Mumbai</td>\n",
       "      <td>IndiGo</td>\n",
       "      <td>1</td>\n",
       "      <td>3</td>\n",
       "      <td>Dutch Palace | Jewish Synagogue | St. Francis...</td>\n",
       "      <td>Not Available</td>\n",
       "      <td>8512.0</td>\n",
       "      <td>New Delhi</td>\n",
       "      <td>Cochin</td>\n",
       "      <td>(13.0836939, 80.270186)</td>\n",
       "    </tr>\n",
       "    <tr>\n",
       "      <th>6</th>\n",
       "      <td>644c71b1a9ccfe6eacc6303be12c1352</td>\n",
       "      <td>Jaipur Holiday</td>\n",
       "      <td>Standard</td>\n",
       "      <td>Jaipur</td>\n",
       "      <td>3N Jaipur</td>\n",
       "      <td>Jaipur</td>\n",
       "      <td>24-01-2021</td>\n",
       "      <td>Ratnawali A Vegetarian Heritage Hotel:4.1</td>\n",
       "      <td>New Delhi</td>\n",
       "      <td>IndiGo</td>\n",
       "      <td>2</td>\n",
       "      <td>3</td>\n",
       "      <td>Hawa Mahal | City Palace | Jantar Mantar | Am...</td>\n",
       "      <td>Cancellation any time after making the 1st pay...</td>\n",
       "      <td>6848.0</td>\n",
       "      <td>New Delhi</td>\n",
       "      <td>Jaipur</td>\n",
       "      <td>(13.0836939, 80.270186)</td>\n",
       "    </tr>\n",
       "    <tr>\n",
       "      <th>7</th>\n",
       "      <td>07943295cfdce5cb20861e8369948b1d</td>\n",
       "      <td>Kasol &amp; Manali holiday from Delhi</td>\n",
       "      <td>Deluxe</td>\n",
       "      <td>Kasol|Manali</td>\n",
       "      <td>2N Kasol . 3N Manali</td>\n",
       "      <td>Kasol|Manali</td>\n",
       "      <td>10-12-2021</td>\n",
       "      <td>The Himalayan Village:Four|The Holiday Resorts...</td>\n",
       "      <td>Mumbai</td>\n",
       "      <td>Not Available</td>\n",
       "      <td>1</td>\n",
       "      <td>3</td>\n",
       "      <td>Pandoh Dam | Hadimba Temple | Tibetan Monaste...</td>\n",
       "      <td>Cancellation any time after making the 1st pay...</td>\n",
       "      <td>14454.5</td>\n",
       "      <td>New Delhi</td>\n",
       "      <td>Kasol</td>\n",
       "      <td>(13.0836939, 80.270186)</td>\n",
       "    </tr>\n",
       "    <tr>\n",
       "      <th>8</th>\n",
       "      <td>126e12c63233bf11ef2e001a062f2a53</td>\n",
       "      <td>Charismatic Kashmir with Gulmarg</td>\n",
       "      <td>Deluxe</td>\n",
       "      <td>Srinagar|Gulmarg|Pahalgam|Srinagar</td>\n",
       "      <td>1N Srinagar . 1N Gulmarg . 2N Pahalgam . 2N Sr...</td>\n",
       "      <td>Srinagar|Gulmarg|Pahalgam|Srinagar</td>\n",
       "      <td>03-10-2021</td>\n",
       "      <td>California Group of Houseboats:3.6|The Rosewoo...</td>\n",
       "      <td>New Delhi</td>\n",
       "      <td>IndiGo</td>\n",
       "      <td>1</td>\n",
       "      <td>3</td>\n",
       "      <td>Dal Lake | Gondola Point | Avantipura Ruins |...</td>\n",
       "      <td>Cancellation any time after making the 1st pay...</td>\n",
       "      <td>21556.5</td>\n",
       "      <td>New Delhi</td>\n",
       "      <td>Srinagar</td>\n",
       "      <td>(13.0836939, 80.270186)</td>\n",
       "    </tr>\n",
       "    <tr>\n",
       "      <th>9</th>\n",
       "      <td>72aeb7bac6d5600fe443fca06e3db631</td>\n",
       "      <td>Luxury Getaway to Udaipur - Stay at the Chunda...</td>\n",
       "      <td>Premium</td>\n",
       "      <td>Udaipur</td>\n",
       "      <td>2N Udaipur</td>\n",
       "      <td>Udaipur</td>\n",
       "      <td>15-08-2021</td>\n",
       "      <td>Chunda Palace:4.6</td>\n",
       "      <td>Mumbai</td>\n",
       "      <td>IndiGo</td>\n",
       "      <td>0</td>\n",
       "      <td>5</td>\n",
       "      <td>Lake Pichola | Jag Mandir Palace | Sajjangarh...</td>\n",
       "      <td>This cancellation policy is applicable for boo...</td>\n",
       "      <td>13042.0</td>\n",
       "      <td>New Delhi</td>\n",
       "      <td>Udaipur</td>\n",
       "      <td>(13.0836939, 80.270186)</td>\n",
       "    </tr>\n",
       "    <tr>\n",
       "      <th>10</th>\n",
       "      <td>e44087e386d00c5267679f8fd307b7f3</td>\n",
       "      <td>Essence of Kerala</td>\n",
       "      <td>Budget</td>\n",
       "      <td>Kovalam and Poovar|Kanyakumari</td>\n",
       "      <td>2N Kovalam and Poovar . 1N Kanyakumari</td>\n",
       "      <td>Kovalam and Poovar|Kanyakumari</td>\n",
       "      <td>02-06-2021</td>\n",
       "      <td>UDAY SAMUDRA LEISURE BEACH HOTEL &amp; SPA-MMT Hol...</td>\n",
       "      <td>New Delhi</td>\n",
       "      <td>Spicejet</td>\n",
       "      <td>2</td>\n",
       "      <td>2</td>\n",
       "      <td>Hawa Beach | Light House Beach | Bhagavathy A...</td>\n",
       "      <td>Cancellation any time after making the 1st pay...</td>\n",
       "      <td>10648.5</td>\n",
       "      <td>New Delhi</td>\n",
       "      <td>Kovalam and Poovar</td>\n",
       "      <td>(13.0836939, 80.270186)</td>\n",
       "    </tr>\n",
       "    <tr>\n",
       "      <th>11</th>\n",
       "      <td>0dbe8654ab9d0e6e7521307cf4e87df5</td>\n",
       "      <td>A Blissful holiday in Kerala</td>\n",
       "      <td>Premium</td>\n",
       "      <td>Cochin|Munnar|Allepey|Kovalam and Poovar</td>\n",
       "      <td>1N Cochin . 2N Munnar . 1N Allepey . 2N Kovala...</td>\n",
       "      <td>Cochin|Munnar|Allepey|Kovalam and Poovar</td>\n",
       "      <td>14-10-2021</td>\n",
       "      <td>Casino Hotel - Cgh Earth-MMT Holidays Special:...</td>\n",
       "      <td>New Delhi</td>\n",
       "      <td>IndiGo|Spicejet</td>\n",
       "      <td>0</td>\n",
       "      <td>5</td>\n",
       "      <td>Fort Cochin | Dutch Palace | Jewish Synagogue...</td>\n",
       "      <td>Cancellation any time after making the 1st pay...</td>\n",
       "      <td>25902.0</td>\n",
       "      <td>New Delhi</td>\n",
       "      <td>Cochin</td>\n",
       "      <td>(13.0836939, 80.270186)</td>\n",
       "    </tr>\n",
       "    <tr>\n",
       "      <th>12</th>\n",
       "      <td>455c47ceb54f32117184ddac1f1d3381</td>\n",
       "      <td>A day visit to Guwahati</td>\n",
       "      <td>Premium</td>\n",
       "      <td>Guwahati</td>\n",
       "      <td>1N Guwahati</td>\n",
       "      <td>Guwahati</td>\n",
       "      <td>15-09-2021</td>\n",
       "      <td>Kiranshree Grand:4.5</td>\n",
       "      <td>New Delhi</td>\n",
       "      <td>Spicejet</td>\n",
       "      <td>0</td>\n",
       "      <td>5</td>\n",
       "      <td>Kamakhya Temple</td>\n",
       "      <td>Cancellation any time after making the 1st pay...</td>\n",
       "      <td>12009.5</td>\n",
       "      <td>New Delhi</td>\n",
       "      <td>Guwahati</td>\n",
       "      <td>(13.0836939, 80.270186)</td>\n",
       "    </tr>\n",
       "    <tr>\n",
       "      <th>13</th>\n",
       "      <td>3429b7d0a59153d4208e1da2c6375fd6</td>\n",
       "      <td>Holiday in Udaipur &amp; Mount Abu by Volvo from A...</td>\n",
       "      <td>Standard</td>\n",
       "      <td>Udaipur|Mount Abu</td>\n",
       "      <td>2N Udaipur . 1N Mount Abu</td>\n",
       "      <td>Udaipur|Mount Abu</td>\n",
       "      <td>21-05-2021</td>\n",
       "      <td>Not Available</td>\n",
       "      <td>New Delhi</td>\n",
       "      <td>Not Available</td>\n",
       "      <td>2</td>\n",
       "      <td>3</td>\n",
       "      <td>Lake Pichola | Jag Mandir Palace | Return Vol...</td>\n",
       "      <td>Cancellation any time after making the 1st pay...</td>\n",
       "      <td>6911.0</td>\n",
       "      <td>New Delhi</td>\n",
       "      <td>Udaipur</td>\n",
       "      <td>(13.0836939, 80.270186)</td>\n",
       "    </tr>\n",
       "    <tr>\n",
       "      <th>14</th>\n",
       "      <td>6cd8532dfd379fa163d78c2d6e2fb4b2</td>\n",
       "      <td>Himachal Marvels from Delhi(with Flights)</td>\n",
       "      <td>Deluxe</td>\n",
       "      <td>Chandigarh|Shimla|Manali|Chandigarh</td>\n",
       "      <td>1N Chandigarh . 2N Shimla . 3N Manali . 1N Cha...</td>\n",
       "      <td>Chandigarh|Shimla|Manali|Chandigarh</td>\n",
       "      <td>19-02-2021</td>\n",
       "      <td>Hotel 6 Chandigarh Zirakpur(Medallion):4|Summi...</td>\n",
       "      <td>Mumbai</td>\n",
       "      <td>Go Air|IndiGo</td>\n",
       "      <td>1</td>\n",
       "      <td>3</td>\n",
       "      <td>Pinjore Gardens | Shimla Church | Scandal poi...</td>\n",
       "      <td>Cancellation any time after making the 1st pay...</td>\n",
       "      <td>17323.0</td>\n",
       "      <td>New Delhi</td>\n",
       "      <td>Chandigarh</td>\n",
       "      <td>(13.0836939, 80.270186)</td>\n",
       "    </tr>\n",
       "    <tr>\n",
       "      <th>15</th>\n",
       "      <td>fac47ae77eab1c689848f4b25d45cef8</td>\n",
       "      <td>Drive to Nainital, Kausani and Corbett</td>\n",
       "      <td>Standard</td>\n",
       "      <td>Nainital|Kausani|Corbett</td>\n",
       "      <td>2N Nainital . 1N Kausani . 2N Corbett</td>\n",
       "      <td>Nainital|Kausani|Corbett</td>\n",
       "      <td>29-06-2021</td>\n",
       "      <td>Hotel Maya Regency Bhimtal:3.8|Heritage Resort...</td>\n",
       "      <td>New Delhi</td>\n",
       "      <td>IndiGo</td>\n",
       "      <td>2</td>\n",
       "      <td>3</td>\n",
       "      <td>Nainital Zoo | Naina devi Temple | Lands End ...</td>\n",
       "      <td>Cancellation any time after making the 1st pay...</td>\n",
       "      <td>13890.0</td>\n",
       "      <td>New Delhi</td>\n",
       "      <td>Nainital</td>\n",
       "      <td>(13.0836939, 80.270186)</td>\n",
       "    </tr>\n",
       "    <tr>\n",
       "      <th>16</th>\n",
       "      <td>59bb52b95f9f1cbcb5350b50c0c8f9b2</td>\n",
       "      <td>Romantic Getaway - Spectacular Landscapes of K...</td>\n",
       "      <td>Deluxe</td>\n",
       "      <td>Kodaikanal</td>\n",
       "      <td>3N Kodaikanal</td>\n",
       "      <td>Kodaikanal</td>\n",
       "      <td>18-12-2021</td>\n",
       "      <td>Kodai Resort Hotel:4.1</td>\n",
       "      <td>New Delhi</td>\n",
       "      <td>Air India</td>\n",
       "      <td>1</td>\n",
       "      <td>3</td>\n",
       "      <td>South India - Convenience Value pack - Sedan ...</td>\n",
       "      <td>This cancellation policy is applicable for boo...</td>\n",
       "      <td>14558.5</td>\n",
       "      <td>New Delhi</td>\n",
       "      <td>Kodaikanal</td>\n",
       "      <td>(13.0836939, 80.270186)</td>\n",
       "    </tr>\n",
       "    <tr>\n",
       "      <th>17</th>\n",
       "      <td>7c21b76443e81009f0851635819465f5</td>\n",
       "      <td>Beautiful Kashmir Holiday</td>\n",
       "      <td>Deluxe</td>\n",
       "      <td>Srinagar|Gulmarg|Srinagar</td>\n",
       "      <td>1N Srinagar . 1N Gulmarg . 2N Srinagar</td>\n",
       "      <td>Srinagar|Gulmarg|Srinagar</td>\n",
       "      <td>09-04-2021</td>\n",
       "      <td>California Group of Houseboats:3.6|The Rosewoo...</td>\n",
       "      <td>Mumbai</td>\n",
       "      <td>Spicejet|Spicejet</td>\n",
       "      <td>1</td>\n",
       "      <td>3</td>\n",
       "      <td>Dal Lake | Gondola Point | Mughal Gardens | C...</td>\n",
       "      <td>Cancellation any time after making the 1st pay...</td>\n",
       "      <td>12591.0</td>\n",
       "      <td>New Delhi</td>\n",
       "      <td>Srinagar</td>\n",
       "      <td>(13.0836939, 80.270186)</td>\n",
       "    </tr>\n",
       "    <tr>\n",
       "      <th>18</th>\n",
       "      <td>d26163e7ff27bf1e8637728c785df0db</td>\n",
       "      <td>A Relaxing Rendezvous in Himachal from Delhi</td>\n",
       "      <td>Luxury</td>\n",
       "      <td>Shimla|Manali|Dharamshala</td>\n",
       "      <td>2N Shimla . 3N Manali . 2N Dharamshala</td>\n",
       "      <td>Shimla|Manali|Dharamshala</td>\n",
       "      <td>27-11-2021</td>\n",
       "      <td>Not Available</td>\n",
       "      <td>Mumbai</td>\n",
       "      <td>Not Available</td>\n",
       "      <td>0</td>\n",
       "      <td>4</td>\n",
       "      <td>Kufri | Mall road | Viceregal Lodge | Pandoh ...</td>\n",
       "      <td>Cancellation any time after making the 1st pay...</td>\n",
       "      <td>20739.0</td>\n",
       "      <td>New Delhi</td>\n",
       "      <td>Shimla</td>\n",
       "      <td>(13.0836939, 80.270186)</td>\n",
       "    </tr>\n",
       "    <tr>\n",
       "      <th>19</th>\n",
       "      <td>d6d306cb2a359396aefb53ec5fbff2d7</td>\n",
       "      <td>Queen of Hill Stations</td>\n",
       "      <td>Standard</td>\n",
       "      <td>Ooty|Kodaikanal</td>\n",
       "      <td>3N Ooty . 3N Kodaikanal</td>\n",
       "      <td>Ooty|Kodaikanal</td>\n",
       "      <td>22-11-2021</td>\n",
       "      <td>Hotel Meadows Residency:4.4|Hotel Jem Valley:3.8</td>\n",
       "      <td>Mumbai</td>\n",
       "      <td>Spicejet</td>\n",
       "      <td>2</td>\n",
       "      <td>3</td>\n",
       "      <td>Ooty Lake | Doddabetta Peak | Ooty Botanical ...</td>\n",
       "      <td>Cancellation any time after making the 1st pay...</td>\n",
       "      <td>14445.0</td>\n",
       "      <td>New Delhi</td>\n",
       "      <td>Ooty</td>\n",
       "      <td>(13.0836939, 80.270186)</td>\n",
       "    </tr>\n",
       "  </tbody>\n",
       "</table>\n",
       "</div>"
      ],
      "text/plain": [
       "                             Uniq Id  \\\n",
       "0   e788ab76d9d8cf1e6ed2f139645ca5d1   \n",
       "1   178f892630ce3e335a5a41d5d83937fd   \n",
       "2   f060f2954840503cc2fdaf495357b7df   \n",
       "3   32a19a6c171e67448f2346da46c619dc   \n",
       "4   107b068aa0ca03bc6248966f594d105f   \n",
       "5   3bb074528941b3a6823371f77b07fb0f   \n",
       "6   644c71b1a9ccfe6eacc6303be12c1352   \n",
       "7   07943295cfdce5cb20861e8369948b1d   \n",
       "8   126e12c63233bf11ef2e001a062f2a53   \n",
       "9   72aeb7bac6d5600fe443fca06e3db631   \n",
       "10  e44087e386d00c5267679f8fd307b7f3   \n",
       "11  0dbe8654ab9d0e6e7521307cf4e87df5   \n",
       "12  455c47ceb54f32117184ddac1f1d3381   \n",
       "13  3429b7d0a59153d4208e1da2c6375fd6   \n",
       "14  6cd8532dfd379fa163d78c2d6e2fb4b2   \n",
       "15  fac47ae77eab1c689848f4b25d45cef8   \n",
       "16  59bb52b95f9f1cbcb5350b50c0c8f9b2   \n",
       "17  7c21b76443e81009f0851635819465f5   \n",
       "18  d26163e7ff27bf1e8637728c785df0db   \n",
       "19  d6d306cb2a359396aefb53ec5fbff2d7   \n",
       "\n",
       "                                         Package Name Package Type  \\\n",
       "0        Best of Shimla and Manali Holiday from Delhi     Standard   \n",
       "1                             Kashmir Valley vacation      Premium   \n",
       "2             Might of Mewar- Udaipur and Chittorgarh       Luxury   \n",
       "3                Colorful Kerala ( Romantic Getaway )      Premium   \n",
       "4                         A Week In Bangkok & Pattaya      Premium   \n",
       "5         Cochin Trip with Visit to Guruvayoor Temple       Deluxe   \n",
       "6                                      Jaipur Holiday     Standard   \n",
       "7                   Kasol & Manali holiday from Delhi       Deluxe   \n",
       "8                    Charismatic Kashmir with Gulmarg       Deluxe   \n",
       "9   Luxury Getaway to Udaipur - Stay at the Chunda...      Premium   \n",
       "10                                  Essence of Kerala       Budget   \n",
       "11                       A Blissful holiday in Kerala      Premium   \n",
       "12                            A day visit to Guwahati      Premium   \n",
       "13  Holiday in Udaipur & Mount Abu by Volvo from A...     Standard   \n",
       "14          Himachal Marvels from Delhi(with Flights)       Deluxe   \n",
       "15             Drive to Nainital, Kausani and Corbett     Standard   \n",
       "16  Romantic Getaway - Spectacular Landscapes of K...       Deluxe   \n",
       "17                          Beautiful Kashmir Holiday       Deluxe   \n",
       "18       A Relaxing Rendezvous in Himachal from Delhi       Luxury   \n",
       "19                             Queen of Hill Stations     Standard   \n",
       "\n",
       "                                    Destination  \\\n",
       "0            New Delhi|Shimla|Manali|Chandigarh   \n",
       "1                    Srinagar|Pahalgam|Srinagar   \n",
       "2                           Udaipur|Chittorgarh   \n",
       "3   Munnar|Kumarakom|Allepey|Kovalam and Poovar   \n",
       "4                               Pattaya|Bangkok   \n",
       "5                                        Cochin   \n",
       "6                                        Jaipur   \n",
       "7                                  Kasol|Manali   \n",
       "8            Srinagar|Gulmarg|Pahalgam|Srinagar   \n",
       "9                                       Udaipur   \n",
       "10               Kovalam and Poovar|Kanyakumari   \n",
       "11     Cochin|Munnar|Allepey|Kovalam and Poovar   \n",
       "12                                     Guwahati   \n",
       "13                            Udaipur|Mount Abu   \n",
       "14          Chandigarh|Shimla|Manali|Chandigarh   \n",
       "15                     Nainital|Kausani|Corbett   \n",
       "16                                   Kodaikanal   \n",
       "17                    Srinagar|Gulmarg|Srinagar   \n",
       "18                    Shimla|Manali|Dharamshala   \n",
       "19                              Ooty|Kodaikanal   \n",
       "\n",
       "                                            Itinerary  \\\n",
       "0   1N New Delhi . 2N Shimla . 2N Manali . 1N Chan...   \n",
       "1             1N Srinagar . 2N Pahalgam . 1N Srinagar   \n",
       "2                         2N Udaipur . 1N Chittorgarh   \n",
       "3   2N Munnar . 1N Kumarakom . 1N Allepey . 2N Kov...   \n",
       "4                             4N Pattaya . 3N Bangkok   \n",
       "5                                           2N Cochin   \n",
       "6                                           3N Jaipur   \n",
       "7                                2N Kasol . 3N Manali   \n",
       "8   1N Srinagar . 1N Gulmarg . 2N Pahalgam . 2N Sr...   \n",
       "9                                          2N Udaipur   \n",
       "10             2N Kovalam and Poovar . 1N Kanyakumari   \n",
       "11  1N Cochin . 2N Munnar . 1N Allepey . 2N Kovala...   \n",
       "12                                        1N Guwahati   \n",
       "13                          2N Udaipur . 1N Mount Abu   \n",
       "14  1N Chandigarh . 2N Shimla . 3N Manali . 1N Cha...   \n",
       "15              2N Nainital . 1N Kausani . 2N Corbett   \n",
       "16                                      3N Kodaikanal   \n",
       "17             1N Srinagar . 1N Gulmarg . 2N Srinagar   \n",
       "18             2N Shimla . 3N Manali . 2N Dharamshala   \n",
       "19                            3N Ooty . 3N Kodaikanal   \n",
       "\n",
       "                                 Places Covered Travel Date  \\\n",
       "0            New Delhi|Shimla|Manali|Chandigarh  30-07-2021   \n",
       "1                    Srinagar|Pahalgam|Srinagar  08-12-2021   \n",
       "2                           Udaipur|Chittorgarh  26-04-2021   \n",
       "3   Munnar|Kumarakom|Allepey|Kovalam and Poovar  27-08-2021   \n",
       "4                               Pattaya|Bangkok  12-12-2021   \n",
       "5                                        Cochin  30-09-2021   \n",
       "6                                        Jaipur  24-01-2021   \n",
       "7                                  Kasol|Manali  10-12-2021   \n",
       "8            Srinagar|Gulmarg|Pahalgam|Srinagar  03-10-2021   \n",
       "9                                       Udaipur  15-08-2021   \n",
       "10               Kovalam and Poovar|Kanyakumari  02-06-2021   \n",
       "11     Cochin|Munnar|Allepey|Kovalam and Poovar  14-10-2021   \n",
       "12                                     Guwahati  15-09-2021   \n",
       "13                            Udaipur|Mount Abu  21-05-2021   \n",
       "14          Chandigarh|Shimla|Manali|Chandigarh  19-02-2021   \n",
       "15                     Nainital|Kausani|Corbett  29-06-2021   \n",
       "16                                   Kodaikanal  18-12-2021   \n",
       "17                    Srinagar|Gulmarg|Srinagar  09-04-2021   \n",
       "18                    Shimla|Manali|Dharamshala  27-11-2021   \n",
       "19                              Ooty|Kodaikanal  22-11-2021   \n",
       "\n",
       "                                        Hotel Details Start City  \\\n",
       "0                                       Not Available     Mumbai   \n",
       "1   The Orchard Retreat & Spa:4.6|WelcomHotel Pine...  New Delhi   \n",
       "2        The Ananta:4.4|juSTa Lake Nahargarh Palace:4  New Delhi   \n",
       "3   Elixir Hills Suites Resort & Spa-MMT Holidays ...  New Delhi   \n",
       "4   Dusit Thani Pattaya - MMT Special:4.5|Amari Wa...  New Delhi   \n",
       "5                                       Not Available     Mumbai   \n",
       "6           Ratnawali A Vegetarian Heritage Hotel:4.1  New Delhi   \n",
       "7   The Himalayan Village:Four|The Holiday Resorts...     Mumbai   \n",
       "8   California Group of Houseboats:3.6|The Rosewoo...  New Delhi   \n",
       "9                                   Chunda Palace:4.6     Mumbai   \n",
       "10  UDAY SAMUDRA LEISURE BEACH HOTEL & SPA-MMT Hol...  New Delhi   \n",
       "11  Casino Hotel - Cgh Earth-MMT Holidays Special:...  New Delhi   \n",
       "12                               Kiranshree Grand:4.5  New Delhi   \n",
       "13                                      Not Available  New Delhi   \n",
       "14  Hotel 6 Chandigarh Zirakpur(Medallion):4|Summi...     Mumbai   \n",
       "15  Hotel Maya Regency Bhimtal:3.8|Heritage Resort...  New Delhi   \n",
       "16                             Kodai Resort Hotel:4.1  New Delhi   \n",
       "17  California Group of Houseboats:3.6|The Rosewoo...     Mumbai   \n",
       "18                                      Not Available     Mumbai   \n",
       "19   Hotel Meadows Residency:4.4|Hotel Jem Valley:3.8     Mumbai   \n",
       "\n",
       "              Airline  Flight Stops  Meals  \\\n",
       "0       Not Available             2      3   \n",
       "1       IndiGo|IndiGo             0      5   \n",
       "2              IndiGo             0      4   \n",
       "3              IndiGo             0      5   \n",
       "4     Spicejet|Go Air             0      5   \n",
       "5              IndiGo             1      3   \n",
       "6              IndiGo             2      3   \n",
       "7       Not Available             1      3   \n",
       "8              IndiGo             1      3   \n",
       "9              IndiGo             0      5   \n",
       "10           Spicejet             2      2   \n",
       "11    IndiGo|Spicejet             0      5   \n",
       "12           Spicejet             0      5   \n",
       "13      Not Available             2      3   \n",
       "14      Go Air|IndiGo             1      3   \n",
       "15             IndiGo             2      3   \n",
       "16          Air India             1      3   \n",
       "17  Spicejet|Spicejet             1      3   \n",
       "18      Not Available             0      4   \n",
       "19           Spicejet             2      3   \n",
       "\n",
       "                           Sightseeing Places Covered  \\\n",
       "0                                       Not Available   \n",
       "1    Dal Lake | Avantipura Ruins | Mughal Gardens ...   \n",
       "2    Lake Pichola | Jag Mandir Palace | Saheliyon ...   \n",
       "3    Mattupetty Dam | Echo Point | Tata Tea Museum...   \n",
       "4    Coral Island Tour with Indian Lunch, Join Spe...   \n",
       "5    Dutch Palace | Jewish Synagogue | St. Francis...   \n",
       "6    Hawa Mahal | City Palace | Jantar Mantar | Am...   \n",
       "7    Pandoh Dam | Hadimba Temple | Tibetan Monaste...   \n",
       "8    Dal Lake | Gondola Point | Avantipura Ruins |...   \n",
       "9    Lake Pichola | Jag Mandir Palace | Sajjangarh...   \n",
       "10   Hawa Beach | Light House Beach | Bhagavathy A...   \n",
       "11   Fort Cochin | Dutch Palace | Jewish Synagogue...   \n",
       "12                                   Kamakhya Temple    \n",
       "13   Lake Pichola | Jag Mandir Palace | Return Vol...   \n",
       "14   Pinjore Gardens | Shimla Church | Scandal poi...   \n",
       "15   Nainital Zoo | Naina devi Temple | Lands End ...   \n",
       "16   South India - Convenience Value pack - Sedan ...   \n",
       "17   Dal Lake | Gondola Point | Mughal Gardens | C...   \n",
       "18   Kufri | Mall road | Viceregal Lodge | Pandoh ...   \n",
       "19   Ooty Lake | Doddabetta Peak | Ooty Botanical ...   \n",
       "\n",
       "                                   Cancellation Rules  Per Person Price  \\\n",
       "0                                       Not Available           11509.0   \n",
       "1   Cancellation any time after making the 1st pay...           22485.5   \n",
       "2   Cancellation any time after making the 1st pay...           12421.5   \n",
       "3   Cancellation any time after making the 1st pay...           35967.0   \n",
       "4   Cancellation any time after making the 1st pay...           25584.0   \n",
       "5                                       Not Available            8512.0   \n",
       "6   Cancellation any time after making the 1st pay...            6848.0   \n",
       "7   Cancellation any time after making the 1st pay...           14454.5   \n",
       "8   Cancellation any time after making the 1st pay...           21556.5   \n",
       "9   This cancellation policy is applicable for boo...           13042.0   \n",
       "10  Cancellation any time after making the 1st pay...           10648.5   \n",
       "11  Cancellation any time after making the 1st pay...           25902.0   \n",
       "12  Cancellation any time after making the 1st pay...           12009.5   \n",
       "13  Cancellation any time after making the 1st pay...            6911.0   \n",
       "14  Cancellation any time after making the 1st pay...           17323.0   \n",
       "15  Cancellation any time after making the 1st pay...           13890.0   \n",
       "16  This cancellation policy is applicable for boo...           14558.5   \n",
       "17  Cancellation any time after making the 1st pay...           12591.0   \n",
       "18  Cancellation any time after making the 1st pay...           20739.0   \n",
       "19  Cancellation any time after making the 1st pay...           14445.0   \n",
       "\n",
       "   Star_Destination   Start_Destination       Start_City_Lon_Lat  \n",
       "0         New Delhi           New Delhi  (13.0836939, 80.270186)  \n",
       "1         New Delhi            Srinagar  (13.0836939, 80.270186)  \n",
       "2         New Delhi             Udaipur  (13.0836939, 80.270186)  \n",
       "3         New Delhi              Munnar  (13.0836939, 80.270186)  \n",
       "4         New Delhi             Pattaya  (13.0836939, 80.270186)  \n",
       "5         New Delhi              Cochin  (13.0836939, 80.270186)  \n",
       "6         New Delhi              Jaipur  (13.0836939, 80.270186)  \n",
       "7         New Delhi               Kasol  (13.0836939, 80.270186)  \n",
       "8         New Delhi            Srinagar  (13.0836939, 80.270186)  \n",
       "9         New Delhi             Udaipur  (13.0836939, 80.270186)  \n",
       "10        New Delhi  Kovalam and Poovar  (13.0836939, 80.270186)  \n",
       "11        New Delhi              Cochin  (13.0836939, 80.270186)  \n",
       "12        New Delhi            Guwahati  (13.0836939, 80.270186)  \n",
       "13        New Delhi             Udaipur  (13.0836939, 80.270186)  \n",
       "14        New Delhi          Chandigarh  (13.0836939, 80.270186)  \n",
       "15        New Delhi            Nainital  (13.0836939, 80.270186)  \n",
       "16        New Delhi          Kodaikanal  (13.0836939, 80.270186)  \n",
       "17        New Delhi            Srinagar  (13.0836939, 80.270186)  \n",
       "18        New Delhi              Shimla  (13.0836939, 80.270186)  \n",
       "19        New Delhi                Ooty  (13.0836939, 80.270186)  "
      ]
     },
     "execution_count": 102,
     "metadata": {},
     "output_type": "execute_result"
    }
   ],
   "source": [
    "data"
   ]
  },
  {
   "cell_type": "code",
   "execution_count": 131,
   "metadata": {},
   "outputs": [
    {
     "name": "stdout",
     "output_type": "stream",
     "text": [
      "0.6820244789123535\n",
      "1.0040085315704346\n",
      "1.0082674026489258\n",
      "0.9843957424163818\n",
      "0.9953887462615967\n",
      "1.0448923110961914\n",
      "0.9745492935180664\n",
      "1.005671501159668\n",
      "0.9815118312835693\n",
      "1.0199689865112305\n",
      "0.9728908538818359\n",
      "1.0542068481445312\n",
      "0.9747357368469238\n",
      "1.0046942234039307\n",
      "0.9960217475891113\n",
      "0.9916577339172363\n",
      "0.9464566707611084\n",
      "1.0435338020324707\n",
      "1.058661937713623\n",
      "0.976656436920166\n"
     ]
    }
   ],
   "source": [
    "data['Start_City_Lon_Lat'] = data['Start City'].apply(lambda x : get_lat_long(x))"
   ]
  },
  {
   "cell_type": "code",
   "execution_count": 108,
   "metadata": {},
   "outputs": [
    {
     "data": {
      "text/plain": [
       "0     (19.0759899, 72.8773928)\n",
       "1     (28.6138954, 77.2090057)\n",
       "2     (28.6138954, 77.2090057)\n",
       "3     (28.6138954, 77.2090057)\n",
       "4     (28.6138954, 77.2090057)\n",
       "5     (19.0759899, 72.8773928)\n",
       "6     (28.6138954, 77.2090057)\n",
       "7     (19.0759899, 72.8773928)\n",
       "8     (28.6138954, 77.2090057)\n",
       "9     (19.0759899, 72.8773928)\n",
       "10    (28.6138954, 77.2090057)\n",
       "11    (28.6138954, 77.2090057)\n",
       "12    (28.6138954, 77.2090057)\n",
       "13    (28.6138954, 77.2090057)\n",
       "14    (19.0759899, 72.8773928)\n",
       "15    (28.6138954, 77.2090057)\n",
       "16    (28.6138954, 77.2090057)\n",
       "17    (19.0759899, 72.8773928)\n",
       "18    (19.0759899, 72.8773928)\n",
       "19    (19.0759899, 72.8773928)\n",
       "Name: Start_City_Lon_Lat, dtype: object"
      ]
     },
     "execution_count": 108,
     "metadata": {},
     "output_type": "execute_result"
    }
   ],
   "source": [
    "data['Start_City_Lon_Lat']"
   ]
  },
  {
   "cell_type": "code",
   "execution_count": 109,
   "metadata": {},
   "outputs": [],
   "source": [
    "data['Start_Destination_lat_long'] = data['Start_Destination'].apply(lambda x : get_lat_long(x))"
   ]
  },
  {
   "cell_type": "code",
   "execution_count": 118,
   "metadata": {},
   "outputs": [],
   "source": [
    "data['Combined_Location']= data['Start_Destination_lat_long']+data['Start_City_Lon_Lat']"
   ]
  },
  {
   "cell_type": "code",
   "execution_count": 140,
   "metadata": {},
   "outputs": [
    {
     "data": {
      "text/plain": [
       "dtype('O')"
      ]
     },
     "execution_count": 140,
     "metadata": {},
     "output_type": "execute_result"
    }
   ],
   "source": [
    "data['Combined_Location']"
   ]
  },
  {
   "cell_type": "code",
   "execution_count": 138,
   "metadata": {},
   "outputs": [
    {
     "name": "stdout",
     "output_type": "stream",
     "text": [
      "13.318014\n",
      "75.7738743\n"
     ]
    }
   ],
   "source": [
    "address = 'Chikmagalur'\n",
    "url = 'https://nominatim.openstreetmap.org/search/' + urllib.parse.quote(address) +'?format=json'\n",
    "\n",
    "response = requests.get(url).json()\n",
    "print(response[0][\"lat\"])\n",
    "print(response[0][\"lon\"])"
   ]
  },
  {
   "cell_type": "code",
   "execution_count": 112,
   "metadata": {},
   "outputs": [],
   "source": [
    "def get_km(l1, lo1, l2, lo2):\n",
    "    # approximate radius of earth in km\n",
    "    R = 6373.0\n",
    "\n",
    "    lat1 = radians(l1)\n",
    "    lon1 = radians(lo1)\n",
    "    lat2 = radians(l2)\n",
    "    lon2 = radians(lo2)\n",
    "\n",
    "    dlon = lon2 - lon1\n",
    "    dlat = lat2 - lat1\n",
    "\n",
    "    a = sin(dlat / 2)**2 + cos(lat1) * cos(lat2) * sin(dlon / 2)**2\n",
    "    c = 2 * atan2(sqrt(a), sqrt(1 - a))\n",
    "    \n",
    "    distance = R * c+280\n",
    "\n",
    "    print(\"Result:\", distance)\n",
    "    return distance\n",
    "    "
   ]
  },
  {
   "cell_type": "code",
   "execution_count": null,
   "metadata": {},
   "outputs": [],
   "source": []
  },
  {
   "cell_type": "code",
   "execution_count": 113,
   "metadata": {},
   "outputs": [
    {
     "name": "stdout",
     "output_type": "stream",
     "text": [
      "Result: 1428.4680278033059\n"
     ]
    }
   ],
   "source": [
    "dis =   get_km(19.0759899,72.8773928, 28.6138954, 77.2090057)"
   ]
  },
  {
   "cell_type": "code",
   "execution_count": 65,
   "metadata": {},
   "outputs": [
    {
     "name": "stdout",
     "output_type": "stream",
     "text": [
      "Result: 1313.3325283060963\n"
     ]
    }
   ],
   "source": [
    "from math import sin, cos, sqrt, atan2, radians\n",
    "\n",
    "# approximate radius of earth in km\n",
    "R = 6373.0\n",
    "\n",
    "lat1 = radians(13.0836939)\n",
    "lon1 = radians(80.270186)\n",
    "lat2 = radians(19.0759899)\n",
    "lon2 = radians(72.8773928)\n",
    "\n",
    "dlon = lon2 - lon1\n",
    "dlat = lat2 - lat1\n",
    "\n",
    "a = sin(dlat / 2)**2 + cos(lat1) * cos(lat2) * sin(dlon / 2)**2\n",
    "c = 2 * atan2(sqrt(a), sqrt(1 - a))\n",
    "\n",
    "distance = R * c+280\n",
    "\n",
    "print(\"Result:\", distance)\n",
    "#print(\"Should be:\", 278.546, \"km\")"
   ]
  },
  {
   "cell_type": "code",
   "execution_count": 120,
   "metadata": {},
   "outputs": [
    {
     "name": "stdout",
     "output_type": "stream",
     "text": [
      "Result: 1428.4680278033059\n",
      "Result: 928.3422226406879\n",
      "Result: 849.3099493463912\n",
      "Result: 2340.802489727041\n",
      "Result: 3287.98122579598\n",
      "Result: 1360.5198392159234\n",
      "Result: 513.247209753886\n",
      "Result: 1785.6174262378154\n",
      "Result: 928.3422226406879\n",
      "Result: 897.7334843922023\n",
      "Result: 2537.4120310041567\n",
      "Result: 2360.376267210758\n",
      "Result: 1740.649921024263\n",
      "Result: 849.3099493463912\n",
      "Result: 1634.7761079126335\n",
      "Result: 504.82031874216676\n",
      "Result: 2320.268086179347\n",
      "Result: 1959.3572484982312\n",
      "Result: 1685.6529667714124\n",
      "Result: 1225.9440605699688\n"
     ]
    }
   ],
   "source": [
    "data['Combined_Location_km']= data['Combined_Location'].apply(lambda x: get_km(float(x[0]),float(x[1]),float(x[2]),float(x[3])) )"
   ]
  },
  {
   "cell_type": "code",
   "execution_count": 122,
   "metadata": {},
   "outputs": [
    {
     "data": {
      "text/html": [
       "<div>\n",
       "<style scoped>\n",
       "    .dataframe tbody tr th:only-of-type {\n",
       "        vertical-align: middle;\n",
       "    }\n",
       "\n",
       "    .dataframe tbody tr th {\n",
       "        vertical-align: top;\n",
       "    }\n",
       "\n",
       "    .dataframe thead th {\n",
       "        text-align: right;\n",
       "    }\n",
       "</style>\n",
       "<table border=\"1\" class=\"dataframe\">\n",
       "  <thead>\n",
       "    <tr style=\"text-align: right;\">\n",
       "      <th></th>\n",
       "      <th>Uniq Id</th>\n",
       "      <th>Package Name</th>\n",
       "      <th>Package Type</th>\n",
       "      <th>Destination</th>\n",
       "      <th>Itinerary</th>\n",
       "      <th>Places Covered</th>\n",
       "      <th>Travel Date</th>\n",
       "      <th>Hotel Details</th>\n",
       "      <th>Start City</th>\n",
       "      <th>Airline</th>\n",
       "      <th>...</th>\n",
       "      <th>Meals</th>\n",
       "      <th>Sightseeing Places Covered</th>\n",
       "      <th>Cancellation Rules</th>\n",
       "      <th>Per Person Price</th>\n",
       "      <th>Star_Destination</th>\n",
       "      <th>Start_Destination</th>\n",
       "      <th>Start_City_Lon_Lat</th>\n",
       "      <th>Start_Destination_lat_long</th>\n",
       "      <th>Combined_Location</th>\n",
       "      <th>Combined_Location_km</th>\n",
       "    </tr>\n",
       "  </thead>\n",
       "  <tbody>\n",
       "    <tr>\n",
       "      <th>0</th>\n",
       "      <td>e788ab76d9d8cf1e6ed2f139645ca5d1</td>\n",
       "      <td>Best of Shimla and Manali Holiday from Delhi</td>\n",
       "      <td>Standard</td>\n",
       "      <td>New Delhi|Shimla|Manali|Chandigarh</td>\n",
       "      <td>1N New Delhi . 2N Shimla . 2N Manali . 1N Chan...</td>\n",
       "      <td>New Delhi|Shimla|Manali|Chandigarh</td>\n",
       "      <td>30-07-2021</td>\n",
       "      <td>Not Available</td>\n",
       "      <td>Mumbai</td>\n",
       "      <td>Not Available</td>\n",
       "      <td>...</td>\n",
       "      <td>3</td>\n",
       "      <td>Not Available</td>\n",
       "      <td>Not Available</td>\n",
       "      <td>11509.0</td>\n",
       "      <td>New Delhi</td>\n",
       "      <td>New Delhi</td>\n",
       "      <td>(19.0759899, 72.8773928)</td>\n",
       "      <td>(28.6138954, 77.2090057)</td>\n",
       "      <td>(28.6138954, 77.2090057, 19.0759899, 72.8773928)</td>\n",
       "      <td>1428.468028</td>\n",
       "    </tr>\n",
       "    <tr>\n",
       "      <th>1</th>\n",
       "      <td>178f892630ce3e335a5a41d5d83937fd</td>\n",
       "      <td>Kashmir Valley vacation</td>\n",
       "      <td>Premium</td>\n",
       "      <td>Srinagar|Pahalgam|Srinagar</td>\n",
       "      <td>1N Srinagar . 2N Pahalgam . 1N Srinagar</td>\n",
       "      <td>Srinagar|Pahalgam|Srinagar</td>\n",
       "      <td>08-12-2021</td>\n",
       "      <td>The Orchard Retreat &amp; Spa:4.6|WelcomHotel Pine...</td>\n",
       "      <td>New Delhi</td>\n",
       "      <td>IndiGo|IndiGo</td>\n",
       "      <td>...</td>\n",
       "      <td>5</td>\n",
       "      <td>Dal Lake | Avantipura Ruins | Mughal Gardens ...</td>\n",
       "      <td>Cancellation any time after making the 1st pay...</td>\n",
       "      <td>22485.5</td>\n",
       "      <td>New Delhi</td>\n",
       "      <td>Srinagar</td>\n",
       "      <td>(28.6138954, 77.2090057)</td>\n",
       "      <td>(34.0747444, 74.8204443)</td>\n",
       "      <td>(34.0747444, 74.8204443, 28.6138954, 77.2090057)</td>\n",
       "      <td>928.342223</td>\n",
       "    </tr>\n",
       "    <tr>\n",
       "      <th>2</th>\n",
       "      <td>f060f2954840503cc2fdaf495357b7df</td>\n",
       "      <td>Might of Mewar- Udaipur and Chittorgarh</td>\n",
       "      <td>Luxury</td>\n",
       "      <td>Udaipur|Chittorgarh</td>\n",
       "      <td>2N Udaipur . 1N Chittorgarh</td>\n",
       "      <td>Udaipur|Chittorgarh</td>\n",
       "      <td>26-04-2021</td>\n",
       "      <td>The Ananta:4.4|juSTa Lake Nahargarh Palace:4</td>\n",
       "      <td>New Delhi</td>\n",
       "      <td>IndiGo</td>\n",
       "      <td>...</td>\n",
       "      <td>4</td>\n",
       "      <td>Lake Pichola | Jag Mandir Palace | Saheliyon ...</td>\n",
       "      <td>Cancellation any time after making the 1st pay...</td>\n",
       "      <td>12421.5</td>\n",
       "      <td>New Delhi</td>\n",
       "      <td>Udaipur</td>\n",
       "      <td>(28.6138954, 77.2090057)</td>\n",
       "      <td>(24.578721, 73.6862571)</td>\n",
       "      <td>(24.578721, 73.6862571, 28.6138954, 77.2090057)</td>\n",
       "      <td>849.309949</td>\n",
       "    </tr>\n",
       "    <tr>\n",
       "      <th>3</th>\n",
       "      <td>32a19a6c171e67448f2346da46c619dc</td>\n",
       "      <td>Colorful Kerala ( Romantic Getaway )</td>\n",
       "      <td>Premium</td>\n",
       "      <td>Munnar|Kumarakom|Allepey|Kovalam and Poovar</td>\n",
       "      <td>2N Munnar . 1N Kumarakom . 1N Allepey . 2N Kov...</td>\n",
       "      <td>Munnar|Kumarakom|Allepey|Kovalam and Poovar</td>\n",
       "      <td>27-08-2021</td>\n",
       "      <td>Elixir Hills Suites Resort &amp; Spa-MMT Holidays ...</td>\n",
       "      <td>New Delhi</td>\n",
       "      <td>IndiGo</td>\n",
       "      <td>...</td>\n",
       "      <td>5</td>\n",
       "      <td>Mattupetty Dam | Echo Point | Tata Tea Museum...</td>\n",
       "      <td>Cancellation any time after making the 1st pay...</td>\n",
       "      <td>35967.0</td>\n",
       "      <td>New Delhi</td>\n",
       "      <td>Munnar</td>\n",
       "      <td>(28.6138954, 77.2090057)</td>\n",
       "      <td>(10.0869959, 77.0600915)</td>\n",
       "      <td>(10.0869959, 77.0600915, 28.6138954, 77.2090057)</td>\n",
       "      <td>2340.802490</td>\n",
       "    </tr>\n",
       "    <tr>\n",
       "      <th>4</th>\n",
       "      <td>107b068aa0ca03bc6248966f594d105f</td>\n",
       "      <td>A Week In Bangkok &amp; Pattaya</td>\n",
       "      <td>Premium</td>\n",
       "      <td>Pattaya|Bangkok</td>\n",
       "      <td>4N Pattaya . 3N Bangkok</td>\n",
       "      <td>Pattaya|Bangkok</td>\n",
       "      <td>12-12-2021</td>\n",
       "      <td>Dusit Thani Pattaya - MMT Special:4.5|Amari Wa...</td>\n",
       "      <td>New Delhi</td>\n",
       "      <td>Spicejet|Go Air</td>\n",
       "      <td>...</td>\n",
       "      <td>5</td>\n",
       "      <td>Coral Island Tour with Indian Lunch, Join Spe...</td>\n",
       "      <td>Cancellation any time after making the 1st pay...</td>\n",
       "      <td>25584.0</td>\n",
       "      <td>New Delhi</td>\n",
       "      <td>Pattaya</td>\n",
       "      <td>(28.6138954, 77.2090057)</td>\n",
       "      <td>(12.931941, 100.9009534)</td>\n",
       "      <td>(12.931941, 100.9009534, 28.6138954, 77.2090057)</td>\n",
       "      <td>3287.981226</td>\n",
       "    </tr>\n",
       "    <tr>\n",
       "      <th>5</th>\n",
       "      <td>3bb074528941b3a6823371f77b07fb0f</td>\n",
       "      <td>Cochin Trip with Visit to Guruvayoor Temple</td>\n",
       "      <td>Deluxe</td>\n",
       "      <td>Cochin</td>\n",
       "      <td>2N Cochin</td>\n",
       "      <td>Cochin</td>\n",
       "      <td>30-09-2021</td>\n",
       "      <td>Not Available</td>\n",
       "      <td>Mumbai</td>\n",
       "      <td>IndiGo</td>\n",
       "      <td>...</td>\n",
       "      <td>3</td>\n",
       "      <td>Dutch Palace | Jewish Synagogue | St. Francis...</td>\n",
       "      <td>Not Available</td>\n",
       "      <td>8512.0</td>\n",
       "      <td>New Delhi</td>\n",
       "      <td>Cochin</td>\n",
       "      <td>(19.0759899, 72.8773928)</td>\n",
       "      <td>(9.9313695, 76.2673759)</td>\n",
       "      <td>(9.9313695, 76.2673759, 19.0759899, 72.8773928)</td>\n",
       "      <td>1360.519839</td>\n",
       "    </tr>\n",
       "    <tr>\n",
       "      <th>6</th>\n",
       "      <td>644c71b1a9ccfe6eacc6303be12c1352</td>\n",
       "      <td>Jaipur Holiday</td>\n",
       "      <td>Standard</td>\n",
       "      <td>Jaipur</td>\n",
       "      <td>3N Jaipur</td>\n",
       "      <td>Jaipur</td>\n",
       "      <td>24-01-2021</td>\n",
       "      <td>Ratnawali A Vegetarian Heritage Hotel:4.1</td>\n",
       "      <td>New Delhi</td>\n",
       "      <td>IndiGo</td>\n",
       "      <td>...</td>\n",
       "      <td>3</td>\n",
       "      <td>Hawa Mahal | City Palace | Jantar Mantar | Am...</td>\n",
       "      <td>Cancellation any time after making the 1st pay...</td>\n",
       "      <td>6848.0</td>\n",
       "      <td>New Delhi</td>\n",
       "      <td>Jaipur</td>\n",
       "      <td>(28.6138954, 77.2090057)</td>\n",
       "      <td>(26.9154576, 75.8189817)</td>\n",
       "      <td>(26.9154576, 75.8189817, 28.6138954, 77.2090057)</td>\n",
       "      <td>513.247210</td>\n",
       "    </tr>\n",
       "    <tr>\n",
       "      <th>7</th>\n",
       "      <td>07943295cfdce5cb20861e8369948b1d</td>\n",
       "      <td>Kasol &amp; Manali holiday from Delhi</td>\n",
       "      <td>Deluxe</td>\n",
       "      <td>Kasol|Manali</td>\n",
       "      <td>2N Kasol . 3N Manali</td>\n",
       "      <td>Kasol|Manali</td>\n",
       "      <td>10-12-2021</td>\n",
       "      <td>The Himalayan Village:Four|The Holiday Resorts...</td>\n",
       "      <td>Mumbai</td>\n",
       "      <td>Not Available</td>\n",
       "      <td>...</td>\n",
       "      <td>3</td>\n",
       "      <td>Pandoh Dam | Hadimba Temple | Tibetan Monaste...</td>\n",
       "      <td>Cancellation any time after making the 1st pay...</td>\n",
       "      <td>14454.5</td>\n",
       "      <td>New Delhi</td>\n",
       "      <td>Kasol</td>\n",
       "      <td>(19.0759899, 72.8773928)</td>\n",
       "      <td>(32.0104317, 77.3166036)</td>\n",
       "      <td>(32.0104317, 77.3166036, 19.0759899, 72.8773928)</td>\n",
       "      <td>1785.617426</td>\n",
       "    </tr>\n",
       "    <tr>\n",
       "      <th>8</th>\n",
       "      <td>126e12c63233bf11ef2e001a062f2a53</td>\n",
       "      <td>Charismatic Kashmir with Gulmarg</td>\n",
       "      <td>Deluxe</td>\n",
       "      <td>Srinagar|Gulmarg|Pahalgam|Srinagar</td>\n",
       "      <td>1N Srinagar . 1N Gulmarg . 2N Pahalgam . 2N Sr...</td>\n",
       "      <td>Srinagar|Gulmarg|Pahalgam|Srinagar</td>\n",
       "      <td>03-10-2021</td>\n",
       "      <td>California Group of Houseboats:3.6|The Rosewoo...</td>\n",
       "      <td>New Delhi</td>\n",
       "      <td>IndiGo</td>\n",
       "      <td>...</td>\n",
       "      <td>3</td>\n",
       "      <td>Dal Lake | Gondola Point | Avantipura Ruins |...</td>\n",
       "      <td>Cancellation any time after making the 1st pay...</td>\n",
       "      <td>21556.5</td>\n",
       "      <td>New Delhi</td>\n",
       "      <td>Srinagar</td>\n",
       "      <td>(28.6138954, 77.2090057)</td>\n",
       "      <td>(34.0747444, 74.8204443)</td>\n",
       "      <td>(34.0747444, 74.8204443, 28.6138954, 77.2090057)</td>\n",
       "      <td>928.342223</td>\n",
       "    </tr>\n",
       "    <tr>\n",
       "      <th>9</th>\n",
       "      <td>72aeb7bac6d5600fe443fca06e3db631</td>\n",
       "      <td>Luxury Getaway to Udaipur - Stay at the Chunda...</td>\n",
       "      <td>Premium</td>\n",
       "      <td>Udaipur</td>\n",
       "      <td>2N Udaipur</td>\n",
       "      <td>Udaipur</td>\n",
       "      <td>15-08-2021</td>\n",
       "      <td>Chunda Palace:4.6</td>\n",
       "      <td>Mumbai</td>\n",
       "      <td>IndiGo</td>\n",
       "      <td>...</td>\n",
       "      <td>5</td>\n",
       "      <td>Lake Pichola | Jag Mandir Palace | Sajjangarh...</td>\n",
       "      <td>This cancellation policy is applicable for boo...</td>\n",
       "      <td>13042.0</td>\n",
       "      <td>New Delhi</td>\n",
       "      <td>Udaipur</td>\n",
       "      <td>(19.0759899, 72.8773928)</td>\n",
       "      <td>(24.578721, 73.6862571)</td>\n",
       "      <td>(24.578721, 73.6862571, 19.0759899, 72.8773928)</td>\n",
       "      <td>897.733484</td>\n",
       "    </tr>\n",
       "    <tr>\n",
       "      <th>10</th>\n",
       "      <td>e44087e386d00c5267679f8fd307b7f3</td>\n",
       "      <td>Essence of Kerala</td>\n",
       "      <td>Budget</td>\n",
       "      <td>Kovalam and Poovar|Kanyakumari</td>\n",
       "      <td>2N Kovalam and Poovar . 1N Kanyakumari</td>\n",
       "      <td>Kovalam and Poovar|Kanyakumari</td>\n",
       "      <td>02-06-2021</td>\n",
       "      <td>UDAY SAMUDRA LEISURE BEACH HOTEL &amp; SPA-MMT Hol...</td>\n",
       "      <td>New Delhi</td>\n",
       "      <td>Spicejet</td>\n",
       "      <td>...</td>\n",
       "      <td>2</td>\n",
       "      <td>Hawa Beach | Light House Beach | Bhagavathy A...</td>\n",
       "      <td>Cancellation any time after making the 1st pay...</td>\n",
       "      <td>10648.5</td>\n",
       "      <td>New Delhi</td>\n",
       "      <td>Kovalam and Poovar</td>\n",
       "      <td>(28.6138954, 77.2090057)</td>\n",
       "      <td>(8.3192844, 77.071692)</td>\n",
       "      <td>(8.3192844, 77.071692, 28.6138954, 77.2090057)</td>\n",
       "      <td>2537.412031</td>\n",
       "    </tr>\n",
       "    <tr>\n",
       "      <th>11</th>\n",
       "      <td>0dbe8654ab9d0e6e7521307cf4e87df5</td>\n",
       "      <td>A Blissful holiday in Kerala</td>\n",
       "      <td>Premium</td>\n",
       "      <td>Cochin|Munnar|Allepey|Kovalam and Poovar</td>\n",
       "      <td>1N Cochin . 2N Munnar . 1N Allepey . 2N Kovala...</td>\n",
       "      <td>Cochin|Munnar|Allepey|Kovalam and Poovar</td>\n",
       "      <td>14-10-2021</td>\n",
       "      <td>Casino Hotel - Cgh Earth-MMT Holidays Special:...</td>\n",
       "      <td>New Delhi</td>\n",
       "      <td>IndiGo|Spicejet</td>\n",
       "      <td>...</td>\n",
       "      <td>5</td>\n",
       "      <td>Fort Cochin | Dutch Palace | Jewish Synagogue...</td>\n",
       "      <td>Cancellation any time after making the 1st pay...</td>\n",
       "      <td>25902.0</td>\n",
       "      <td>New Delhi</td>\n",
       "      <td>Cochin</td>\n",
       "      <td>(28.6138954, 77.2090057)</td>\n",
       "      <td>(9.9313695, 76.2673759)</td>\n",
       "      <td>(9.9313695, 76.2673759, 28.6138954, 77.2090057)</td>\n",
       "      <td>2360.376267</td>\n",
       "    </tr>\n",
       "    <tr>\n",
       "      <th>12</th>\n",
       "      <td>455c47ceb54f32117184ddac1f1d3381</td>\n",
       "      <td>A day visit to Guwahati</td>\n",
       "      <td>Premium</td>\n",
       "      <td>Guwahati</td>\n",
       "      <td>1N Guwahati</td>\n",
       "      <td>Guwahati</td>\n",
       "      <td>15-09-2021</td>\n",
       "      <td>Kiranshree Grand:4.5</td>\n",
       "      <td>New Delhi</td>\n",
       "      <td>Spicejet</td>\n",
       "      <td>...</td>\n",
       "      <td>5</td>\n",
       "      <td>Kamakhya Temple</td>\n",
       "      <td>Cancellation any time after making the 1st pay...</td>\n",
       "      <td>12009.5</td>\n",
       "      <td>New Delhi</td>\n",
       "      <td>Guwahati</td>\n",
       "      <td>(28.6138954, 77.2090057)</td>\n",
       "      <td>(26.1805978, 91.753943)</td>\n",
       "      <td>(26.1805978, 91.753943, 28.6138954, 77.2090057)</td>\n",
       "      <td>1740.649921</td>\n",
       "    </tr>\n",
       "    <tr>\n",
       "      <th>13</th>\n",
       "      <td>3429b7d0a59153d4208e1da2c6375fd6</td>\n",
       "      <td>Holiday in Udaipur &amp; Mount Abu by Volvo from A...</td>\n",
       "      <td>Standard</td>\n",
       "      <td>Udaipur|Mount Abu</td>\n",
       "      <td>2N Udaipur . 1N Mount Abu</td>\n",
       "      <td>Udaipur|Mount Abu</td>\n",
       "      <td>21-05-2021</td>\n",
       "      <td>Not Available</td>\n",
       "      <td>New Delhi</td>\n",
       "      <td>Not Available</td>\n",
       "      <td>...</td>\n",
       "      <td>3</td>\n",
       "      <td>Lake Pichola | Jag Mandir Palace | Return Vol...</td>\n",
       "      <td>Cancellation any time after making the 1st pay...</td>\n",
       "      <td>6911.0</td>\n",
       "      <td>New Delhi</td>\n",
       "      <td>Udaipur</td>\n",
       "      <td>(28.6138954, 77.2090057)</td>\n",
       "      <td>(24.578721, 73.6862571)</td>\n",
       "      <td>(24.578721, 73.6862571, 28.6138954, 77.2090057)</td>\n",
       "      <td>849.309949</td>\n",
       "    </tr>\n",
       "    <tr>\n",
       "      <th>14</th>\n",
       "      <td>6cd8532dfd379fa163d78c2d6e2fb4b2</td>\n",
       "      <td>Himachal Marvels from Delhi(with Flights)</td>\n",
       "      <td>Deluxe</td>\n",
       "      <td>Chandigarh|Shimla|Manali|Chandigarh</td>\n",
       "      <td>1N Chandigarh . 2N Shimla . 3N Manali . 1N Cha...</td>\n",
       "      <td>Chandigarh|Shimla|Manali|Chandigarh</td>\n",
       "      <td>19-02-2021</td>\n",
       "      <td>Hotel 6 Chandigarh Zirakpur(Medallion):4|Summi...</td>\n",
       "      <td>Mumbai</td>\n",
       "      <td>Go Air|IndiGo</td>\n",
       "      <td>...</td>\n",
       "      <td>3</td>\n",
       "      <td>Pinjore Gardens | Shimla Church | Scandal poi...</td>\n",
       "      <td>Cancellation any time after making the 1st pay...</td>\n",
       "      <td>17323.0</td>\n",
       "      <td>New Delhi</td>\n",
       "      <td>Chandigarh</td>\n",
       "      <td>(19.0759899, 72.8773928)</td>\n",
       "      <td>(30.7334421, 76.7797143)</td>\n",
       "      <td>(30.7334421, 76.7797143, 19.0759899, 72.8773928)</td>\n",
       "      <td>1634.776108</td>\n",
       "    </tr>\n",
       "    <tr>\n",
       "      <th>15</th>\n",
       "      <td>fac47ae77eab1c689848f4b25d45cef8</td>\n",
       "      <td>Drive to Nainital, Kausani and Corbett</td>\n",
       "      <td>Standard</td>\n",
       "      <td>Nainital|Kausani|Corbett</td>\n",
       "      <td>2N Nainital . 1N Kausani . 2N Corbett</td>\n",
       "      <td>Nainital|Kausani|Corbett</td>\n",
       "      <td>29-06-2021</td>\n",
       "      <td>Hotel Maya Regency Bhimtal:3.8|Heritage Resort...</td>\n",
       "      <td>New Delhi</td>\n",
       "      <td>IndiGo</td>\n",
       "      <td>...</td>\n",
       "      <td>3</td>\n",
       "      <td>Nainital Zoo | Naina devi Temple | Lands End ...</td>\n",
       "      <td>Cancellation any time after making the 1st pay...</td>\n",
       "      <td>13890.0</td>\n",
       "      <td>New Delhi</td>\n",
       "      <td>Nainital</td>\n",
       "      <td>(28.6138954, 77.2090057)</td>\n",
       "      <td>(29.2031392, 79.4176945)</td>\n",
       "      <td>(29.2031392, 79.4176945, 28.6138954, 77.2090057)</td>\n",
       "      <td>504.820319</td>\n",
       "    </tr>\n",
       "    <tr>\n",
       "      <th>16</th>\n",
       "      <td>59bb52b95f9f1cbcb5350b50c0c8f9b2</td>\n",
       "      <td>Romantic Getaway - Spectacular Landscapes of K...</td>\n",
       "      <td>Deluxe</td>\n",
       "      <td>Kodaikanal</td>\n",
       "      <td>3N Kodaikanal</td>\n",
       "      <td>Kodaikanal</td>\n",
       "      <td>18-12-2021</td>\n",
       "      <td>Kodai Resort Hotel:4.1</td>\n",
       "      <td>New Delhi</td>\n",
       "      <td>Air India</td>\n",
       "      <td>...</td>\n",
       "      <td>3</td>\n",
       "      <td>South India - Convenience Value pack - Sedan ...</td>\n",
       "      <td>This cancellation policy is applicable for boo...</td>\n",
       "      <td>14558.5</td>\n",
       "      <td>New Delhi</td>\n",
       "      <td>Kodaikanal</td>\n",
       "      <td>(28.6138954, 77.2090057)</td>\n",
       "      <td>(10.273275349999999, 77.51160822153315)</td>\n",
       "      <td>(10.273275349999999, 77.51160822153315, 28.613...</td>\n",
       "      <td>2320.268086</td>\n",
       "    </tr>\n",
       "    <tr>\n",
       "      <th>17</th>\n",
       "      <td>7c21b76443e81009f0851635819465f5</td>\n",
       "      <td>Beautiful Kashmir Holiday</td>\n",
       "      <td>Deluxe</td>\n",
       "      <td>Srinagar|Gulmarg|Srinagar</td>\n",
       "      <td>1N Srinagar . 1N Gulmarg . 2N Srinagar</td>\n",
       "      <td>Srinagar|Gulmarg|Srinagar</td>\n",
       "      <td>09-04-2021</td>\n",
       "      <td>California Group of Houseboats:3.6|The Rosewoo...</td>\n",
       "      <td>Mumbai</td>\n",
       "      <td>Spicejet|Spicejet</td>\n",
       "      <td>...</td>\n",
       "      <td>3</td>\n",
       "      <td>Dal Lake | Gondola Point | Mughal Gardens | C...</td>\n",
       "      <td>Cancellation any time after making the 1st pay...</td>\n",
       "      <td>12591.0</td>\n",
       "      <td>New Delhi</td>\n",
       "      <td>Srinagar</td>\n",
       "      <td>(19.0759899, 72.8773928)</td>\n",
       "      <td>(34.0747444, 74.8204443)</td>\n",
       "      <td>(34.0747444, 74.8204443, 19.0759899, 72.8773928)</td>\n",
       "      <td>1959.357248</td>\n",
       "    </tr>\n",
       "    <tr>\n",
       "      <th>18</th>\n",
       "      <td>d26163e7ff27bf1e8637728c785df0db</td>\n",
       "      <td>A Relaxing Rendezvous in Himachal from Delhi</td>\n",
       "      <td>Luxury</td>\n",
       "      <td>Shimla|Manali|Dharamshala</td>\n",
       "      <td>2N Shimla . 3N Manali . 2N Dharamshala</td>\n",
       "      <td>Shimla|Manali|Dharamshala</td>\n",
       "      <td>27-11-2021</td>\n",
       "      <td>Not Available</td>\n",
       "      <td>Mumbai</td>\n",
       "      <td>Not Available</td>\n",
       "      <td>...</td>\n",
       "      <td>4</td>\n",
       "      <td>Kufri | Mall road | Viceregal Lodge | Pandoh ...</td>\n",
       "      <td>Cancellation any time after making the 1st pay...</td>\n",
       "      <td>20739.0</td>\n",
       "      <td>New Delhi</td>\n",
       "      <td>Shimla</td>\n",
       "      <td>(19.0759899, 72.8773928)</td>\n",
       "      <td>(31.1041526, 77.1709729)</td>\n",
       "      <td>(31.1041526, 77.1709729, 19.0759899, 72.8773928)</td>\n",
       "      <td>1685.652967</td>\n",
       "    </tr>\n",
       "    <tr>\n",
       "      <th>19</th>\n",
       "      <td>d6d306cb2a359396aefb53ec5fbff2d7</td>\n",
       "      <td>Queen of Hill Stations</td>\n",
       "      <td>Standard</td>\n",
       "      <td>Ooty|Kodaikanal</td>\n",
       "      <td>3N Ooty . 3N Kodaikanal</td>\n",
       "      <td>Ooty|Kodaikanal</td>\n",
       "      <td>22-11-2021</td>\n",
       "      <td>Hotel Meadows Residency:4.4|Hotel Jem Valley:3.8</td>\n",
       "      <td>Mumbai</td>\n",
       "      <td>Spicejet</td>\n",
       "      <td>...</td>\n",
       "      <td>3</td>\n",
       "      <td>Ooty Lake | Doddabetta Peak | Ooty Botanical ...</td>\n",
       "      <td>Cancellation any time after making the 1st pay...</td>\n",
       "      <td>14445.0</td>\n",
       "      <td>New Delhi</td>\n",
       "      <td>Ooty</td>\n",
       "      <td>(19.0759899, 72.8773928)</td>\n",
       "      <td>(11.4126769, 76.7030504)</td>\n",
       "      <td>(11.4126769, 76.7030504, 19.0759899, 72.8773928)</td>\n",
       "      <td>1225.944061</td>\n",
       "    </tr>\n",
       "  </tbody>\n",
       "</table>\n",
       "<p>20 rows × 21 columns</p>\n",
       "</div>"
      ],
      "text/plain": [
       "                             Uniq Id  \\\n",
       "0   e788ab76d9d8cf1e6ed2f139645ca5d1   \n",
       "1   178f892630ce3e335a5a41d5d83937fd   \n",
       "2   f060f2954840503cc2fdaf495357b7df   \n",
       "3   32a19a6c171e67448f2346da46c619dc   \n",
       "4   107b068aa0ca03bc6248966f594d105f   \n",
       "5   3bb074528941b3a6823371f77b07fb0f   \n",
       "6   644c71b1a9ccfe6eacc6303be12c1352   \n",
       "7   07943295cfdce5cb20861e8369948b1d   \n",
       "8   126e12c63233bf11ef2e001a062f2a53   \n",
       "9   72aeb7bac6d5600fe443fca06e3db631   \n",
       "10  e44087e386d00c5267679f8fd307b7f3   \n",
       "11  0dbe8654ab9d0e6e7521307cf4e87df5   \n",
       "12  455c47ceb54f32117184ddac1f1d3381   \n",
       "13  3429b7d0a59153d4208e1da2c6375fd6   \n",
       "14  6cd8532dfd379fa163d78c2d6e2fb4b2   \n",
       "15  fac47ae77eab1c689848f4b25d45cef8   \n",
       "16  59bb52b95f9f1cbcb5350b50c0c8f9b2   \n",
       "17  7c21b76443e81009f0851635819465f5   \n",
       "18  d26163e7ff27bf1e8637728c785df0db   \n",
       "19  d6d306cb2a359396aefb53ec5fbff2d7   \n",
       "\n",
       "                                         Package Name Package Type  \\\n",
       "0        Best of Shimla and Manali Holiday from Delhi     Standard   \n",
       "1                             Kashmir Valley vacation      Premium   \n",
       "2             Might of Mewar- Udaipur and Chittorgarh       Luxury   \n",
       "3                Colorful Kerala ( Romantic Getaway )      Premium   \n",
       "4                         A Week In Bangkok & Pattaya      Premium   \n",
       "5         Cochin Trip with Visit to Guruvayoor Temple       Deluxe   \n",
       "6                                      Jaipur Holiday     Standard   \n",
       "7                   Kasol & Manali holiday from Delhi       Deluxe   \n",
       "8                    Charismatic Kashmir with Gulmarg       Deluxe   \n",
       "9   Luxury Getaway to Udaipur - Stay at the Chunda...      Premium   \n",
       "10                                  Essence of Kerala       Budget   \n",
       "11                       A Blissful holiday in Kerala      Premium   \n",
       "12                            A day visit to Guwahati      Premium   \n",
       "13  Holiday in Udaipur & Mount Abu by Volvo from A...     Standard   \n",
       "14          Himachal Marvels from Delhi(with Flights)       Deluxe   \n",
       "15             Drive to Nainital, Kausani and Corbett     Standard   \n",
       "16  Romantic Getaway - Spectacular Landscapes of K...       Deluxe   \n",
       "17                          Beautiful Kashmir Holiday       Deluxe   \n",
       "18       A Relaxing Rendezvous in Himachal from Delhi       Luxury   \n",
       "19                             Queen of Hill Stations     Standard   \n",
       "\n",
       "                                    Destination  \\\n",
       "0            New Delhi|Shimla|Manali|Chandigarh   \n",
       "1                    Srinagar|Pahalgam|Srinagar   \n",
       "2                           Udaipur|Chittorgarh   \n",
       "3   Munnar|Kumarakom|Allepey|Kovalam and Poovar   \n",
       "4                               Pattaya|Bangkok   \n",
       "5                                        Cochin   \n",
       "6                                        Jaipur   \n",
       "7                                  Kasol|Manali   \n",
       "8            Srinagar|Gulmarg|Pahalgam|Srinagar   \n",
       "9                                       Udaipur   \n",
       "10               Kovalam and Poovar|Kanyakumari   \n",
       "11     Cochin|Munnar|Allepey|Kovalam and Poovar   \n",
       "12                                     Guwahati   \n",
       "13                            Udaipur|Mount Abu   \n",
       "14          Chandigarh|Shimla|Manali|Chandigarh   \n",
       "15                     Nainital|Kausani|Corbett   \n",
       "16                                   Kodaikanal   \n",
       "17                    Srinagar|Gulmarg|Srinagar   \n",
       "18                    Shimla|Manali|Dharamshala   \n",
       "19                              Ooty|Kodaikanal   \n",
       "\n",
       "                                            Itinerary  \\\n",
       "0   1N New Delhi . 2N Shimla . 2N Manali . 1N Chan...   \n",
       "1             1N Srinagar . 2N Pahalgam . 1N Srinagar   \n",
       "2                         2N Udaipur . 1N Chittorgarh   \n",
       "3   2N Munnar . 1N Kumarakom . 1N Allepey . 2N Kov...   \n",
       "4                             4N Pattaya . 3N Bangkok   \n",
       "5                                           2N Cochin   \n",
       "6                                           3N Jaipur   \n",
       "7                                2N Kasol . 3N Manali   \n",
       "8   1N Srinagar . 1N Gulmarg . 2N Pahalgam . 2N Sr...   \n",
       "9                                          2N Udaipur   \n",
       "10             2N Kovalam and Poovar . 1N Kanyakumari   \n",
       "11  1N Cochin . 2N Munnar . 1N Allepey . 2N Kovala...   \n",
       "12                                        1N Guwahati   \n",
       "13                          2N Udaipur . 1N Mount Abu   \n",
       "14  1N Chandigarh . 2N Shimla . 3N Manali . 1N Cha...   \n",
       "15              2N Nainital . 1N Kausani . 2N Corbett   \n",
       "16                                      3N Kodaikanal   \n",
       "17             1N Srinagar . 1N Gulmarg . 2N Srinagar   \n",
       "18             2N Shimla . 3N Manali . 2N Dharamshala   \n",
       "19                            3N Ooty . 3N Kodaikanal   \n",
       "\n",
       "                                 Places Covered Travel Date  \\\n",
       "0            New Delhi|Shimla|Manali|Chandigarh  30-07-2021   \n",
       "1                    Srinagar|Pahalgam|Srinagar  08-12-2021   \n",
       "2                           Udaipur|Chittorgarh  26-04-2021   \n",
       "3   Munnar|Kumarakom|Allepey|Kovalam and Poovar  27-08-2021   \n",
       "4                               Pattaya|Bangkok  12-12-2021   \n",
       "5                                        Cochin  30-09-2021   \n",
       "6                                        Jaipur  24-01-2021   \n",
       "7                                  Kasol|Manali  10-12-2021   \n",
       "8            Srinagar|Gulmarg|Pahalgam|Srinagar  03-10-2021   \n",
       "9                                       Udaipur  15-08-2021   \n",
       "10               Kovalam and Poovar|Kanyakumari  02-06-2021   \n",
       "11     Cochin|Munnar|Allepey|Kovalam and Poovar  14-10-2021   \n",
       "12                                     Guwahati  15-09-2021   \n",
       "13                            Udaipur|Mount Abu  21-05-2021   \n",
       "14          Chandigarh|Shimla|Manali|Chandigarh  19-02-2021   \n",
       "15                     Nainital|Kausani|Corbett  29-06-2021   \n",
       "16                                   Kodaikanal  18-12-2021   \n",
       "17                    Srinagar|Gulmarg|Srinagar  09-04-2021   \n",
       "18                    Shimla|Manali|Dharamshala  27-11-2021   \n",
       "19                              Ooty|Kodaikanal  22-11-2021   \n",
       "\n",
       "                                        Hotel Details Start City  \\\n",
       "0                                       Not Available     Mumbai   \n",
       "1   The Orchard Retreat & Spa:4.6|WelcomHotel Pine...  New Delhi   \n",
       "2        The Ananta:4.4|juSTa Lake Nahargarh Palace:4  New Delhi   \n",
       "3   Elixir Hills Suites Resort & Spa-MMT Holidays ...  New Delhi   \n",
       "4   Dusit Thani Pattaya - MMT Special:4.5|Amari Wa...  New Delhi   \n",
       "5                                       Not Available     Mumbai   \n",
       "6           Ratnawali A Vegetarian Heritage Hotel:4.1  New Delhi   \n",
       "7   The Himalayan Village:Four|The Holiday Resorts...     Mumbai   \n",
       "8   California Group of Houseboats:3.6|The Rosewoo...  New Delhi   \n",
       "9                                   Chunda Palace:4.6     Mumbai   \n",
       "10  UDAY SAMUDRA LEISURE BEACH HOTEL & SPA-MMT Hol...  New Delhi   \n",
       "11  Casino Hotel - Cgh Earth-MMT Holidays Special:...  New Delhi   \n",
       "12                               Kiranshree Grand:4.5  New Delhi   \n",
       "13                                      Not Available  New Delhi   \n",
       "14  Hotel 6 Chandigarh Zirakpur(Medallion):4|Summi...     Mumbai   \n",
       "15  Hotel Maya Regency Bhimtal:3.8|Heritage Resort...  New Delhi   \n",
       "16                             Kodai Resort Hotel:4.1  New Delhi   \n",
       "17  California Group of Houseboats:3.6|The Rosewoo...     Mumbai   \n",
       "18                                      Not Available     Mumbai   \n",
       "19   Hotel Meadows Residency:4.4|Hotel Jem Valley:3.8     Mumbai   \n",
       "\n",
       "              Airline  ...  Meals  \\\n",
       "0       Not Available  ...      3   \n",
       "1       IndiGo|IndiGo  ...      5   \n",
       "2              IndiGo  ...      4   \n",
       "3              IndiGo  ...      5   \n",
       "4     Spicejet|Go Air  ...      5   \n",
       "5              IndiGo  ...      3   \n",
       "6              IndiGo  ...      3   \n",
       "7       Not Available  ...      3   \n",
       "8              IndiGo  ...      3   \n",
       "9              IndiGo  ...      5   \n",
       "10           Spicejet  ...      2   \n",
       "11    IndiGo|Spicejet  ...      5   \n",
       "12           Spicejet  ...      5   \n",
       "13      Not Available  ...      3   \n",
       "14      Go Air|IndiGo  ...      3   \n",
       "15             IndiGo  ...      3   \n",
       "16          Air India  ...      3   \n",
       "17  Spicejet|Spicejet  ...      3   \n",
       "18      Not Available  ...      4   \n",
       "19           Spicejet  ...      3   \n",
       "\n",
       "                           Sightseeing Places Covered  \\\n",
       "0                                       Not Available   \n",
       "1    Dal Lake | Avantipura Ruins | Mughal Gardens ...   \n",
       "2    Lake Pichola | Jag Mandir Palace | Saheliyon ...   \n",
       "3    Mattupetty Dam | Echo Point | Tata Tea Museum...   \n",
       "4    Coral Island Tour with Indian Lunch, Join Spe...   \n",
       "5    Dutch Palace | Jewish Synagogue | St. Francis...   \n",
       "6    Hawa Mahal | City Palace | Jantar Mantar | Am...   \n",
       "7    Pandoh Dam | Hadimba Temple | Tibetan Monaste...   \n",
       "8    Dal Lake | Gondola Point | Avantipura Ruins |...   \n",
       "9    Lake Pichola | Jag Mandir Palace | Sajjangarh...   \n",
       "10   Hawa Beach | Light House Beach | Bhagavathy A...   \n",
       "11   Fort Cochin | Dutch Palace | Jewish Synagogue...   \n",
       "12                                   Kamakhya Temple    \n",
       "13   Lake Pichola | Jag Mandir Palace | Return Vol...   \n",
       "14   Pinjore Gardens | Shimla Church | Scandal poi...   \n",
       "15   Nainital Zoo | Naina devi Temple | Lands End ...   \n",
       "16   South India - Convenience Value pack - Sedan ...   \n",
       "17   Dal Lake | Gondola Point | Mughal Gardens | C...   \n",
       "18   Kufri | Mall road | Viceregal Lodge | Pandoh ...   \n",
       "19   Ooty Lake | Doddabetta Peak | Ooty Botanical ...   \n",
       "\n",
       "                                   Cancellation Rules Per Person Price  \\\n",
       "0                                       Not Available          11509.0   \n",
       "1   Cancellation any time after making the 1st pay...          22485.5   \n",
       "2   Cancellation any time after making the 1st pay...          12421.5   \n",
       "3   Cancellation any time after making the 1st pay...          35967.0   \n",
       "4   Cancellation any time after making the 1st pay...          25584.0   \n",
       "5                                       Not Available           8512.0   \n",
       "6   Cancellation any time after making the 1st pay...           6848.0   \n",
       "7   Cancellation any time after making the 1st pay...          14454.5   \n",
       "8   Cancellation any time after making the 1st pay...          21556.5   \n",
       "9   This cancellation policy is applicable for boo...          13042.0   \n",
       "10  Cancellation any time after making the 1st pay...          10648.5   \n",
       "11  Cancellation any time after making the 1st pay...          25902.0   \n",
       "12  Cancellation any time after making the 1st pay...          12009.5   \n",
       "13  Cancellation any time after making the 1st pay...           6911.0   \n",
       "14  Cancellation any time after making the 1st pay...          17323.0   \n",
       "15  Cancellation any time after making the 1st pay...          13890.0   \n",
       "16  This cancellation policy is applicable for boo...          14558.5   \n",
       "17  Cancellation any time after making the 1st pay...          12591.0   \n",
       "18  Cancellation any time after making the 1st pay...          20739.0   \n",
       "19  Cancellation any time after making the 1st pay...          14445.0   \n",
       "\n",
       "    Star_Destination   Start_Destination        Start_City_Lon_Lat  \\\n",
       "0          New Delhi           New Delhi  (19.0759899, 72.8773928)   \n",
       "1          New Delhi            Srinagar  (28.6138954, 77.2090057)   \n",
       "2          New Delhi             Udaipur  (28.6138954, 77.2090057)   \n",
       "3          New Delhi              Munnar  (28.6138954, 77.2090057)   \n",
       "4          New Delhi             Pattaya  (28.6138954, 77.2090057)   \n",
       "5          New Delhi              Cochin  (19.0759899, 72.8773928)   \n",
       "6          New Delhi              Jaipur  (28.6138954, 77.2090057)   \n",
       "7          New Delhi               Kasol  (19.0759899, 72.8773928)   \n",
       "8          New Delhi            Srinagar  (28.6138954, 77.2090057)   \n",
       "9          New Delhi             Udaipur  (19.0759899, 72.8773928)   \n",
       "10         New Delhi  Kovalam and Poovar  (28.6138954, 77.2090057)   \n",
       "11         New Delhi              Cochin  (28.6138954, 77.2090057)   \n",
       "12         New Delhi            Guwahati  (28.6138954, 77.2090057)   \n",
       "13         New Delhi             Udaipur  (28.6138954, 77.2090057)   \n",
       "14         New Delhi          Chandigarh  (19.0759899, 72.8773928)   \n",
       "15         New Delhi            Nainital  (28.6138954, 77.2090057)   \n",
       "16         New Delhi          Kodaikanal  (28.6138954, 77.2090057)   \n",
       "17         New Delhi            Srinagar  (19.0759899, 72.8773928)   \n",
       "18         New Delhi              Shimla  (19.0759899, 72.8773928)   \n",
       "19         New Delhi                Ooty  (19.0759899, 72.8773928)   \n",
       "\n",
       "                 Start_Destination_lat_long  \\\n",
       "0                  (28.6138954, 77.2090057)   \n",
       "1                  (34.0747444, 74.8204443)   \n",
       "2                   (24.578721, 73.6862571)   \n",
       "3                  (10.0869959, 77.0600915)   \n",
       "4                  (12.931941, 100.9009534)   \n",
       "5                   (9.9313695, 76.2673759)   \n",
       "6                  (26.9154576, 75.8189817)   \n",
       "7                  (32.0104317, 77.3166036)   \n",
       "8                  (34.0747444, 74.8204443)   \n",
       "9                   (24.578721, 73.6862571)   \n",
       "10                   (8.3192844, 77.071692)   \n",
       "11                  (9.9313695, 76.2673759)   \n",
       "12                  (26.1805978, 91.753943)   \n",
       "13                  (24.578721, 73.6862571)   \n",
       "14                 (30.7334421, 76.7797143)   \n",
       "15                 (29.2031392, 79.4176945)   \n",
       "16  (10.273275349999999, 77.51160822153315)   \n",
       "17                 (34.0747444, 74.8204443)   \n",
       "18                 (31.1041526, 77.1709729)   \n",
       "19                 (11.4126769, 76.7030504)   \n",
       "\n",
       "                                    Combined_Location Combined_Location_km  \n",
       "0    (28.6138954, 77.2090057, 19.0759899, 72.8773928)          1428.468028  \n",
       "1    (34.0747444, 74.8204443, 28.6138954, 77.2090057)           928.342223  \n",
       "2     (24.578721, 73.6862571, 28.6138954, 77.2090057)           849.309949  \n",
       "3    (10.0869959, 77.0600915, 28.6138954, 77.2090057)          2340.802490  \n",
       "4    (12.931941, 100.9009534, 28.6138954, 77.2090057)          3287.981226  \n",
       "5     (9.9313695, 76.2673759, 19.0759899, 72.8773928)          1360.519839  \n",
       "6    (26.9154576, 75.8189817, 28.6138954, 77.2090057)           513.247210  \n",
       "7    (32.0104317, 77.3166036, 19.0759899, 72.8773928)          1785.617426  \n",
       "8    (34.0747444, 74.8204443, 28.6138954, 77.2090057)           928.342223  \n",
       "9     (24.578721, 73.6862571, 19.0759899, 72.8773928)           897.733484  \n",
       "10     (8.3192844, 77.071692, 28.6138954, 77.2090057)          2537.412031  \n",
       "11    (9.9313695, 76.2673759, 28.6138954, 77.2090057)          2360.376267  \n",
       "12    (26.1805978, 91.753943, 28.6138954, 77.2090057)          1740.649921  \n",
       "13    (24.578721, 73.6862571, 28.6138954, 77.2090057)           849.309949  \n",
       "14   (30.7334421, 76.7797143, 19.0759899, 72.8773928)          1634.776108  \n",
       "15   (29.2031392, 79.4176945, 28.6138954, 77.2090057)           504.820319  \n",
       "16  (10.273275349999999, 77.51160822153315, 28.613...          2320.268086  \n",
       "17   (34.0747444, 74.8204443, 19.0759899, 72.8773928)          1959.357248  \n",
       "18   (31.1041526, 77.1709729, 19.0759899, 72.8773928)          1685.652967  \n",
       "19   (11.4126769, 76.7030504, 19.0759899, 72.8773928)          1225.944061  \n",
       "\n",
       "[20 rows x 21 columns]"
      ]
     },
     "execution_count": 122,
     "metadata": {},
     "output_type": "execute_result"
    }
   ],
   "source": [
    "data"
   ]
  },
  {
   "cell_type": "code",
   "execution_count": 123,
   "metadata": {},
   "outputs": [
    {
     "data": {
      "text/plain": [
       "<matplotlib.collections.PathCollection at 0x2b9852ff580>"
      ]
     },
     "execution_count": 123,
     "metadata": {},
     "output_type": "execute_result"
    },
    {
     "data": {
      "image/png": "[encoded data removed]",
      "text/plain": [
       "<Figure size 432x288 with 1 Axes>"
      ]
     },
     "metadata": {
      "needs_background": "light"
     },
     "output_type": "display_data"
    }
   ],
   "source": [
    "plt.scatter(data[\"Per Person Price\"], data[\"Combined_Location_km\"])"
   ]
  },
  {
   "cell_type": "code",
   "execution_count": null,
   "metadata": {},
   "outputs": [],
   "source": []
  }
 ],
 "metadata": {
  "kernelspec": {
   "display_name": "Python 3",
   "language": "python",
   "name": "python3"
  },
  "language_info": {
   "codemirror_mode": {
    "name": "ipython",
    "version": 3
   },
   "file_extension": ".py",
   "mimetype": "text/x-python",
   "name": "python",
   "nbconvert_exporter": "python",
   "pygments_lexer": "ipython3",
   "version": "3.8.5"
  }
 },
 "nbformat": 4,
 "nbformat_minor": 4
}
